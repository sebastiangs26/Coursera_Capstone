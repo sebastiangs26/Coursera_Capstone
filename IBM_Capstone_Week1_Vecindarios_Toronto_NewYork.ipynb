{
  "nbformat": 4,
  "nbformat_minor": 0,
  "metadata": {
    "colab": {
      "name": "IBM_Capstone_Week1_Vecindarios_Toronto_NewYork.ipynb",
      "provenance": [],
      "collapsed_sections": [],
      "include_colab_link": true
    },
    "kernelspec": {
      "name": "python3",
      "display_name": "Python 3"
    },
    "language_info": {
      "name": "python"
    }
  },
  "cells": [
    {
      "cell_type": "markdown",
      "metadata": {
        "id": "view-in-github",
        "colab_type": "text"
      },
      "source": [
        "<a href=\"https://colab.research.google.com/github/sebastiangs26/Coursera_Capstone/blob/main/IBM_Capstone_Week1_Vecindarios_Toronto_NewYork.ipynb\" target=\"_parent\"><img src=\"https://colab.research.google.com/assets/colab-badge.svg\" alt=\"Open In Colab\"/></a>"
      ]
    },
    {
      "cell_type": "markdown",
      "source": [
        "#Proyecto Capstone: Análisis de los vecindarios de Toronto y Nueva York\n",
        "\n",
        "## Ciencia de Datos Aplicada - Curso Capstone\n",
        "\n",
        "###IBM/Coursera (Agosto, 2022)\n",
        "\n",
        "####Integrante: Sebastián Grimberg Saralegui."
      ],
      "metadata": {
        "id": "vFlg3lWHbB5j"
      }
    },
    {
      "cell_type": "markdown",
      "source": [
        "##Tabla de contenidos:"
      ],
      "metadata": {
        "id": "tHW_GTOt1ezg"
      }
    },
    {
      "cell_type": "markdown",
      "source": [
        "* [Introducción](#Introducción)\n",
        "* [Datos](#Datos)\n",
        "* [Metodología](#Metodología)\n",
        "* [Resultados](#Resultados)\n",
        "* [Análisis](#Análisis)\n",
        "* [Conclusiones](#Conclusiones)"
      ],
      "metadata": {
        "id": "xTxGg3XDgus-"
      }
    },
    {
      "cell_type": "markdown",
      "source": [
        "## Introducción<a name=\"Introducción\"></a>"
      ],
      "metadata": {
        "id": "V53WYjU6jU7V"
      }
    },
    {
      "cell_type": "markdown",
      "source": [
        "###Acerca del informe"
      ],
      "metadata": {
        "id": "Jt8wjkPt8kss"
      }
    },
    {
      "cell_type": "markdown",
      "source": [
        "En este proyecto se propone realizar tanto un análisis descriptivo como así mismo una comparación de los distintos vecindarios de las ciudades capitales de Canadá y de Estados Unidos: Toronto y Nueva York. Primero vamos a observar como están compuestas estas ciudades y luego nos adentramos en el análisis y se buscarán similitudes y diferencias entre los diferentes vecindarios tomando en cuenta los lugares más comunes de  estos y sus categorías correspondientes.\n",
        "El informe se encuentra dirigido a una agencia de viajes interesada en recabar información acerca de estos dos grandiosos destinos como parte de un estudio de mercado. "
      ],
      "metadata": {
        "id": "TtRYqaz5rVi2"
      }
    },
    {
      "cell_type": "markdown",
      "source": [
        "###Acerca de su importancia"
      ],
      "metadata": {
        "id": "EMppWZHa86iK"
      }
    },
    {
      "cell_type": "markdown",
      "source": [
        "La importancia de este análisis radica en poder conocer más en profundidad acerca de estas dos grandes ciudades, conocer las características de sus vecindarios que los hacen tanto más diferentes o similares en una y otra ciudad, información muy valiosa por ejemplo para turistas, emprendedores, profesionales, estudiantes, etc. que puedan estar pensando mudarse a una gran ciudad para llevar a cabo sus planes de vida, de negocios, estudio o simplemente sus planes turísticos."
      ],
      "metadata": {
        "id": "6XZZBYHx81bA"
      }
    },
    {
      "cell_type": "markdown",
      "source": [
        "## Datos<a name=\"Datos\"></a>"
      ],
      "metadata": {
        "id": "PTk9B8uxWYRB"
      }
    },
    {
      "cell_type": "markdown",
      "source": [
        "* [Primer etapa de recolección:](#primer) Obtenemos los datos geoespaciales correspondientes a los municipios y sus respectivos vecindarios de cada una de las ciudades. Luego aplicamos la integración de los datos de ambas ciudades para tenerlos en una sola tabla.\n",
        "* [Segunda etapa de recolección:](#segunda) Obtenemos los datos de sitios en los distintos vecindarios a través de la API de Foursquare.\n"
      ],
      "metadata": {
        "id": "M721Ft95TxMI"
      }
    },
    {
      "cell_type": "markdown",
      "source": [
        "###Primer etapa de recolección<a name=\"primer\"></a>"
      ],
      "metadata": {
        "id": "q59xq0vXc5T6"
      }
    },
    {
      "cell_type": "markdown",
      "source": [
        "* [Datos geoespaciales de los vecindarios de Toronto](#Toronto)\n",
        "* [Datos geoespaciales de los vecindarios de Nueva York](#NY)\n",
        "* [Datos geoespaciales de los vecindarios de las dos ciudades: Toronto y Nueva York](#Toronto_NY)\n",
        "* [Descripción y visualización de los datos](#Desc)"
      ],
      "metadata": {
        "id": "NnixKxdLf49N"
      }
    },
    {
      "cell_type": "code",
      "execution_count": null,
      "metadata": {
        "id": "PvPPcVVHV8gz"
      },
      "outputs": [],
      "source": [
        "#Importamos librería pandas\n",
        "import pandas as pd"
      ]
    },
    {
      "cell_type": "markdown",
      "source": [
        "####Datos geoespaciales de los vecindarios de Toronto<a name=\"Toronto\"></a>"
      ],
      "metadata": {
        "id": "65DVtbceWrGS"
      }
    },
    {
      "cell_type": "code",
      "source": [
        "url = \"https://en.wikipedia.org/wiki/List_of_postal_codes_of_Canada:_M\"\n",
        "W_Postal_Codes = pd.read_html(url)"
      ],
      "metadata": {
        "id": "0Xu8-SG-W6Ky"
      },
      "execution_count": null,
      "outputs": []
    },
    {
      "cell_type": "code",
      "source": [
        "df_OriginalTable = W_Postal_Codes[0]"
      ],
      "metadata": {
        "id": "caSaGlLMW95E"
      },
      "execution_count": null,
      "outputs": []
    },
    {
      "cell_type": "code",
      "source": [
        "#Separamos Códigos Postales y descripción de Municipios y Vecindarios\n",
        "City = []\n",
        "Code = []\n",
        "Desc = []\n",
        "for index, row in df_OriginalTable.iterrows():  #recorrer filas\n",
        "  for x in row:        #recorrrer cada celda \n",
        "    Code.append(x[:3]) #obtener lista con los Coódigos Postales\n",
        "    Desc.append(x[3:]) #lista de descripción de Municipios y Vecindarios\n",
        "    City.append('Toronto')"
      ],
      "metadata": {
        "id": "lmdxoNG-XQsI"
      },
      "execution_count": null,
      "outputs": []
    },
    {
      "cell_type": "code",
      "source": [
        "#Creamos un nuevo DataFrame con las 2 listas obtenidas\n",
        "df_ReorganizedTable = pd.DataFrame()\n",
        "df_ReorganizedTable['City'] = City\n",
        "df_ReorganizedTable['PostalCode'] = Code\n",
        "df_ReorganizedTable['Description'] = Desc"
      ],
      "metadata": {
        "id": "RMx0Cs4-XSRr"
      },
      "execution_count": null,
      "outputs": []
    },
    {
      "cell_type": "code",
      "source": [
        "#Eliminamos todas las filas donde hay valores 'Not assigned' en la descripción\n",
        "df_ReorganizedTableClean = df_ReorganizedTable.loc[(df_ReorganizedTable != 'Not assigned').all(axis=1), :]\n",
        "#Luego de eliminar filas reindexamos\n",
        "df_ReorganizedTableClean.reset_index(drop=True, inplace=True)"
      ],
      "metadata": {
        "id": "q-4QDSQbXaaI"
      },
      "execution_count": null,
      "outputs": []
    },
    {
      "cell_type": "code",
      "source": [
        "# Separamos Municipios de Vecindarios \n",
        "Bor_Neigh = df_ReorganizedTableClean.Description.str.split('(',expand=True)\n",
        "# Reemplazamos los simbolos de '/' por el de ','\n",
        "Bor_Neigh[1] = Bor_Neigh[1].str.replace('/',',')\n",
        "# Reemplazamos los simbolos de ')' por el de '' \n",
        "Bor_Neigh[1] = Bor_Neigh[1].str.replace(')','')\n",
        "Bor_Neigh.columns = ['Borough','Neighborhood','None']\n",
        "Bor_Neigh.drop(['None'], axis=1,inplace=True)"
      ],
      "metadata": {
        "colab": {
          "base_uri": "https://localhost:8080/"
        },
        "id": "RwVZ64jvXij6",
        "outputId": "ce6cea9a-6979-429e-957f-b93d48413d87"
      },
      "execution_count": null,
      "outputs": [
        {
          "output_type": "stream",
          "name": "stderr",
          "text": [
            "/usr/local/lib/python3.7/dist-packages/ipykernel_launcher.py:6: FutureWarning: The default value of regex will change from True to False in a future version. In addition, single character regular expressions will *not* be treated as literal strings when regex=True.\n",
            "  \n"
          ]
        }
      ]
    },
    {
      "cell_type": "code",
      "source": [
        "#Obtenemos tabla final con las 3 columnas 'PostalCode','Borough'y'Neighborhood' \n",
        "df_data1 = pd.DataFrame()\n",
        "df_data1 ['City'] = df_ReorganizedTableClean ['City']\n",
        "df_data1 ['PostalCode'] = df_ReorganizedTableClean ['PostalCode']\n",
        "df_data1 [['Borough','Neighborhood']] = Bor_Neigh"
      ],
      "metadata": {
        "id": "rMdavRFVXv_w"
      },
      "execution_count": null,
      "outputs": []
    },
    {
      "cell_type": "code",
      "source": [
        "#descargamos archivo csv con los datos geoespaciales\n",
        "!wget -O Geospatial_data.csv http://cocl.us/Geospatial_data"
      ],
      "metadata": {
        "colab": {
          "base_uri": "https://localhost:8080/"
        },
        "id": "_pkZgQEFX3X1",
        "outputId": "21cde88d-2eeb-4093-8bd6-0d21bc93ba7b"
      },
      "execution_count": null,
      "outputs": [
        {
          "output_type": "stream",
          "name": "stdout",
          "text": [
            "URL transformed to HTTPS due to an HSTS policy\n",
            "--2022-08-15 18:49:50--  https://cocl.us/Geospatial_data\n",
            "Resolving cocl.us (cocl.us)... 23.218.216.217, 23.218.216.198, 2600:1408:c400:19::17d4:f951, ...\n",
            "Connecting to cocl.us (cocl.us)|23.218.216.217|:443... connected.\n",
            "HTTP request sent, awaiting response... 302 Moved Temporarily\n",
            "Location: https://ibm.box.com/shared/static/9afzr83pps4pwf2smjjcf1y5mvgb18rr.csv [following]\n",
            "--2022-08-15 18:49:50--  https://ibm.box.com/shared/static/9afzr83pps4pwf2smjjcf1y5mvgb18rr.csv\n",
            "Resolving ibm.box.com (ibm.box.com)... 107.152.26.197\n",
            "Connecting to ibm.box.com (ibm.box.com)|107.152.26.197|:443... connected.\n",
            "HTTP request sent, awaiting response... 301 Moved Permanently\n",
            "Location: /public/static/9afzr83pps4pwf2smjjcf1y5mvgb18rr.csv [following]\n",
            "--2022-08-15 18:49:51--  https://ibm.box.com/public/static/9afzr83pps4pwf2smjjcf1y5mvgb18rr.csv\n",
            "Reusing existing connection to ibm.box.com:443.\n",
            "HTTP request sent, awaiting response... 301 Moved Permanently\n",
            "Location: https://ibm.ent.box.com/public/static/9afzr83pps4pwf2smjjcf1y5mvgb18rr.csv [following]\n",
            "--2022-08-15 18:49:51--  https://ibm.ent.box.com/public/static/9afzr83pps4pwf2smjjcf1y5mvgb18rr.csv\n",
            "Resolving ibm.ent.box.com (ibm.ent.box.com)... 74.112.186.144\n",
            "Connecting to ibm.ent.box.com (ibm.ent.box.com)|74.112.186.144|:443... connected.\n",
            "HTTP request sent, awaiting response... 302 Found\n",
            "Location: https://dl2.boxcloud.com/d/1/b1!nS4o9csGbkcDNm59ADwsDywCGOjVlYRt9oOloeHgr6JMLYteXCTZjshj0IUnpNx5iUe--Idh8QAyZis0RSty0okdH8Xd9C68JaM00whfEQh8ms9XV5Z9tposRiIX8w1kgfosZvcibpDmsal6q_nA1Vi17mZd2azEX0nYdN9L97K5yztVZbh_MMLLsFp6hJlCS3hmft7V7jP7fJqYSXe0YxDo0Jn3Fdl8RHSjW_Gkku5BTYJojSdKCDPgifKBReqlIJ_ILLMTFv4pGNX8XGFlJmvfxvZi05dn2eOO-VqVHJvy_DtSKppmPxbg7eXzopexK5hgHpYqsZD4DpRbfGMo99Ct8s9pnikhKYobH8ZvWD0BBHdRmYIG3GNr5FheQza_N-VwdTAu12Lvln43-NlSZpSdm7fhRQ27HrKMl0UaaDKDU7-o_yqgUtNgJGMxDeGCMWBmr5GjPAyFGe3eoDGO5oL-8tRl_Jw0LxSimrIZ6aM6Gv288lDKtQ6xrf7JUKZPws7AWD20cgSxatyp_BdEBNhOrNaEgEFRs19cjWqyWaeKqcyswyknLTHamiH0a3IQJlTIvNSzZq2EfnT_NhdxwMccd4FuB_kbhtxhhYG994paOwYYTw3LmGpIkooz49R3CWmE5bib7AH2DTEQOjhkMzYsaNSvPWAyVf1kPSij0cefD4Y_6dxAyAiK4xd77bVSiNBS0iia9SVTONHbQFh46FiVW_aqDtWZTbRxEpd9sMYk9OupghU9rdgzsiIgQCEhnVusdEqzfQ5T224Dif_mNYGrnfOSrU8temcoNgguJWPgg-8MfT3JhoxW9a6Tm8ZAQjhYaTYJ84gPCUkj-5HI7-btZyBlmjgtldpAymvwpxnwmpsTkMoTXwZVEIye_5Vy8_UPro3CRFBtofWVQcur-v0voR-OVV3x6PIPEPMju3p6UrwpnK98onRETII4c7bZW88tvyuQdHRWVdGUhAUU5Vj1yk1NNSn4GGzLjJI-p-3M5QXiawf4geR4mXMIHDbJAyZA_yb5la3KmtIdIbyOPs9R-d4rwZSwQqG4_P4cKF-zashFg7xXodlgmESED-Gpfg6GjRQgZCMoA_6mh729z8C6BQGchIdMf2rTFNyBAlT-aCa8_Gvcqrl3Q4JHOwS246Wv9RXhY538HBeZpzwbVvymP0naXYd9foi-XWmEMhGX0yIhri9fATlo_NoI5jTWqds556BWS3XA2zlFcBmB8-21_lp0RyllWptUI7yfXP5AqfenP-ZJjnKnLfDQeK9wmLkZ4g-5fRUyJsvEpjWd6n3HT3mrM2Jkqrzz0e6vzfbUIaSOGaxF2uWxi3kpGD3aCyHUdt8cfhCnWmd8ajFDUjHZoI_gLR8IWumXaZXAT23uoGX5lkSSvxf4SO4kAQLO23lt1krmggqEYcx_wnMjbZAC1b6NpF57WFdQtaQ1zMMSVgCnNlMKFSDRR2Q897OzR7oTMPQOFC2C/download [following]\n",
            "--2022-08-15 18:49:52--  https://dl2.boxcloud.com/d/1/b1!nS4o9csGbkcDNm59ADwsDywCGOjVlYRt9oOloeHgr6JMLYteXCTZjshj0IUnpNx5iUe--Idh8QAyZis0RSty0okdH8Xd9C68JaM00whfEQh8ms9XV5Z9tposRiIX8w1kgfosZvcibpDmsal6q_nA1Vi17mZd2azEX0nYdN9L97K5yztVZbh_MMLLsFp6hJlCS3hmft7V7jP7fJqYSXe0YxDo0Jn3Fdl8RHSjW_Gkku5BTYJojSdKCDPgifKBReqlIJ_ILLMTFv4pGNX8XGFlJmvfxvZi05dn2eOO-VqVHJvy_DtSKppmPxbg7eXzopexK5hgHpYqsZD4DpRbfGMo99Ct8s9pnikhKYobH8ZvWD0BBHdRmYIG3GNr5FheQza_N-VwdTAu12Lvln43-NlSZpSdm7fhRQ27HrKMl0UaaDKDU7-o_yqgUtNgJGMxDeGCMWBmr5GjPAyFGe3eoDGO5oL-8tRl_Jw0LxSimrIZ6aM6Gv288lDKtQ6xrf7JUKZPws7AWD20cgSxatyp_BdEBNhOrNaEgEFRs19cjWqyWaeKqcyswyknLTHamiH0a3IQJlTIvNSzZq2EfnT_NhdxwMccd4FuB_kbhtxhhYG994paOwYYTw3LmGpIkooz49R3CWmE5bib7AH2DTEQOjhkMzYsaNSvPWAyVf1kPSij0cefD4Y_6dxAyAiK4xd77bVSiNBS0iia9SVTONHbQFh46FiVW_aqDtWZTbRxEpd9sMYk9OupghU9rdgzsiIgQCEhnVusdEqzfQ5T224Dif_mNYGrnfOSrU8temcoNgguJWPgg-8MfT3JhoxW9a6Tm8ZAQjhYaTYJ84gPCUkj-5HI7-btZyBlmjgtldpAymvwpxnwmpsTkMoTXwZVEIye_5Vy8_UPro3CRFBtofWVQcur-v0voR-OVV3x6PIPEPMju3p6UrwpnK98onRETII4c7bZW88tvyuQdHRWVdGUhAUU5Vj1yk1NNSn4GGzLjJI-p-3M5QXiawf4geR4mXMIHDbJAyZA_yb5la3KmtIdIbyOPs9R-d4rwZSwQqG4_P4cKF-zashFg7xXodlgmESED-Gpfg6GjRQgZCMoA_6mh729z8C6BQGchIdMf2rTFNyBAlT-aCa8_Gvcqrl3Q4JHOwS246Wv9RXhY538HBeZpzwbVvymP0naXYd9foi-XWmEMhGX0yIhri9fATlo_NoI5jTWqds556BWS3XA2zlFcBmB8-21_lp0RyllWptUI7yfXP5AqfenP-ZJjnKnLfDQeK9wmLkZ4g-5fRUyJsvEpjWd6n3HT3mrM2Jkqrzz0e6vzfbUIaSOGaxF2uWxi3kpGD3aCyHUdt8cfhCnWmd8ajFDUjHZoI_gLR8IWumXaZXAT23uoGX5lkSSvxf4SO4kAQLO23lt1krmggqEYcx_wnMjbZAC1b6NpF57WFdQtaQ1zMMSVgCnNlMKFSDRR2Q897OzR7oTMPQOFC2C/download\n",
            "Resolving dl2.boxcloud.com (dl2.boxcloud.com)... 74.112.186.128\n",
            "Connecting to dl2.boxcloud.com (dl2.boxcloud.com)|74.112.186.128|:443... connected.\n",
            "HTTP request sent, awaiting response... 200 OK\n",
            "Length: 2891 (2.8K) [text/csv]\n",
            "Saving to: ‘Geospatial_data.csv’\n",
            "\n",
            "Geospatial_data.csv 100%[===================>]   2.82K  --.-KB/s    in 0s      \n",
            "\n",
            "2022-08-15 18:49:52 (25.8 MB/s) - ‘Geospatial_data.csv’ saved [2891/2891]\n",
            "\n"
          ]
        }
      ]
    },
    {
      "cell_type": "code",
      "source": [
        "Geospatial_data = pd.read_csv('Geospatial_data.csv')\n",
        "Geospatial_data = Geospatial_data.rename(columns={'Postal Code':'PostalCode'})"
      ],
      "metadata": {
        "id": "kFIKxUzDYQ4R"
      },
      "execution_count": null,
      "outputs": []
    },
    {
      "cell_type": "code",
      "source": [
        "#Utilizamos columna en común de las dos tablas 'PostalCode' para poder unirlas\n",
        "df_data2 = pd.merge(df_data1, Geospatial_data, on ='PostalCode')\n",
        "#Eliminamos columna 'PostalCode'\n",
        "data_To = df_data2.drop(['PostalCode'], axis=1)"
      ],
      "metadata": {
        "id": "9VZHV79nYax7"
      },
      "execution_count": null,
      "outputs": []
    },
    {
      "cell_type": "markdown",
      "source": [
        "####Datos geoespaciales de los vecindarios de Nueva York<a name=\"NY\"></a>"
      ],
      "metadata": {
        "id": "SVgmzfvdZHxb"
      }
    },
    {
      "cell_type": "code",
      "source": [
        "#Importamos librería json\n",
        "import json"
      ],
      "metadata": {
        "id": "LrVQrv_6d4NL"
      },
      "execution_count": null,
      "outputs": []
    },
    {
      "cell_type": "code",
      "source": [
        "!wget -q -O 'newyork_data.json' https://cf-courses-data.s3.us.cloud-object-storage.appdomain.cloud/IBMDeveloperSkillsNetwork-DS0701EN-SkillsNetwork/labs/newyork_data.json\n",
        "print('Data downloaded!')"
      ],
      "metadata": {
        "colab": {
          "base_uri": "https://localhost:8080/"
        },
        "id": "FqEtxAJWZann",
        "outputId": "0675b70d-e425-4976-9e9b-6d578732413e"
      },
      "execution_count": null,
      "outputs": [
        {
          "output_type": "stream",
          "name": "stdout",
          "text": [
            "Data downloaded!\n"
          ]
        }
      ]
    },
    {
      "cell_type": "code",
      "source": [
        "with open('newyork_data.json') as json_data:\n",
        "    newyork_data = json.load(json_data)"
      ],
      "metadata": {
        "id": "bA1FwlubZmHE"
      },
      "execution_count": null,
      "outputs": []
    },
    {
      "cell_type": "code",
      "source": [
        "neighborhoods_data = newyork_data['features']"
      ],
      "metadata": {
        "id": "unpEW0m5Zqlm"
      },
      "execution_count": null,
      "outputs": []
    },
    {
      "cell_type": "code",
      "source": [
        "# definir las columnas del datagrama\n",
        "column_names = ['City','Borough', 'Neighborhood', 'Latitude', 'Longitude'] \n",
        "\n",
        "# inicializar el dataframe\n",
        "data_NY = pd.DataFrame(columns=column_names)"
      ],
      "metadata": {
        "id": "EOfgMSJTZ0I6"
      },
      "execution_count": null,
      "outputs": []
    },
    {
      "cell_type": "code",
      "source": [
        "for data in neighborhoods_data:\n",
        "    borough = neighborhood_name = data['properties']['borough'] \n",
        "    neighborhood_name = data['properties']['name']\n",
        "        \n",
        "    neighborhood_latlon = data['geometry']['coordinates']\n",
        "    neighborhood_lat = neighborhood_latlon[1]\n",
        "    neighborhood_lon = neighborhood_latlon[0]\n",
        "    \n",
        "    data_NY = data_NY.append({'City' :'Nueva York',\n",
        "                              'Borough': borough,\n",
        "                              'Neighborhood': neighborhood_name,\n",
        "                              'Latitude': neighborhood_lat,\n",
        "                              'Longitude': neighborhood_lon,\n",
        "                              }, ignore_index=True)"
      ],
      "metadata": {
        "id": "DbqsVLi-Z3tE"
      },
      "execution_count": null,
      "outputs": []
    },
    {
      "cell_type": "markdown",
      "source": [
        "####Datos geoespaciales de los vecindarios de las dos ciudades: Toronto y Nueva York<a name=\"Toronto_NY\"></a>"
      ],
      "metadata": {
        "id": "7XH9qUjMaj_p"
      }
    },
    {
      "cell_type": "code",
      "source": [
        "#Unimos las filas de las dos tablas\n",
        "data = data_To.append(data_NY, ignore_index=True)"
      ],
      "metadata": {
        "id": "o2YIDt91arPB"
      },
      "execution_count": null,
      "outputs": []
    },
    {
      "cell_type": "code",
      "source": [
        "#Primeras filas de la tabla data\n",
        "data.head()"
      ],
      "metadata": {
        "colab": {
          "base_uri": "https://localhost:8080/",
          "height": 206
        },
        "id": "F7cPiTE7bFbJ",
        "outputId": "73028f9a-0fe9-4b11-dc0d-639488e8071d"
      },
      "execution_count": null,
      "outputs": [
        {
          "output_type": "execute_result",
          "data": {
            "text/plain": [
              "      City           Borough                       Neighborhood   Latitude  \\\n",
              "0  Toronto        North York                          Parkwoods  43.753259   \n",
              "1  Toronto        North York                   Victoria Village  43.725882   \n",
              "2  Toronto  Downtown Toronto         Regent Park , Harbourfront  43.654260   \n",
              "3  Toronto        North York  Lawrence Manor , Lawrence Heights  43.718518   \n",
              "4  Toronto      Queen's Park      Ontario Provincial Government  43.662301   \n",
              "\n",
              "   Longitude  \n",
              "0 -79.329656  \n",
              "1 -79.315572  \n",
              "2 -79.360636  \n",
              "3 -79.464763  \n",
              "4 -79.389494  "
            ],
            "text/html": [
              "\n",
              "  <div id=\"df-439b969b-21ed-40d2-b8da-11c52258a839\">\n",
              "    <div class=\"colab-df-container\">\n",
              "      <div>\n",
              "<style scoped>\n",
              "    .dataframe tbody tr th:only-of-type {\n",
              "        vertical-align: middle;\n",
              "    }\n",
              "\n",
              "    .dataframe tbody tr th {\n",
              "        vertical-align: top;\n",
              "    }\n",
              "\n",
              "    .dataframe thead th {\n",
              "        text-align: right;\n",
              "    }\n",
              "</style>\n",
              "<table border=\"1\" class=\"dataframe\">\n",
              "  <thead>\n",
              "    <tr style=\"text-align: right;\">\n",
              "      <th></th>\n",
              "      <th>City</th>\n",
              "      <th>Borough</th>\n",
              "      <th>Neighborhood</th>\n",
              "      <th>Latitude</th>\n",
              "      <th>Longitude</th>\n",
              "    </tr>\n",
              "  </thead>\n",
              "  <tbody>\n",
              "    <tr>\n",
              "      <th>0</th>\n",
              "      <td>Toronto</td>\n",
              "      <td>North York</td>\n",
              "      <td>Parkwoods</td>\n",
              "      <td>43.753259</td>\n",
              "      <td>-79.329656</td>\n",
              "    </tr>\n",
              "    <tr>\n",
              "      <th>1</th>\n",
              "      <td>Toronto</td>\n",
              "      <td>North York</td>\n",
              "      <td>Victoria Village</td>\n",
              "      <td>43.725882</td>\n",
              "      <td>-79.315572</td>\n",
              "    </tr>\n",
              "    <tr>\n",
              "      <th>2</th>\n",
              "      <td>Toronto</td>\n",
              "      <td>Downtown Toronto</td>\n",
              "      <td>Regent Park , Harbourfront</td>\n",
              "      <td>43.654260</td>\n",
              "      <td>-79.360636</td>\n",
              "    </tr>\n",
              "    <tr>\n",
              "      <th>3</th>\n",
              "      <td>Toronto</td>\n",
              "      <td>North York</td>\n",
              "      <td>Lawrence Manor , Lawrence Heights</td>\n",
              "      <td>43.718518</td>\n",
              "      <td>-79.464763</td>\n",
              "    </tr>\n",
              "    <tr>\n",
              "      <th>4</th>\n",
              "      <td>Toronto</td>\n",
              "      <td>Queen's Park</td>\n",
              "      <td>Ontario Provincial Government</td>\n",
              "      <td>43.662301</td>\n",
              "      <td>-79.389494</td>\n",
              "    </tr>\n",
              "  </tbody>\n",
              "</table>\n",
              "</div>\n",
              "      <button class=\"colab-df-convert\" onclick=\"convertToInteractive('df-439b969b-21ed-40d2-b8da-11c52258a839')\"\n",
              "              title=\"Convert this dataframe to an interactive table.\"\n",
              "              style=\"display:none;\">\n",
              "        \n",
              "  <svg xmlns=\"http://www.w3.org/2000/svg\" height=\"24px\"viewBox=\"0 0 24 24\"\n",
              "       width=\"24px\">\n",
              "    <path d=\"M0 0h24v24H0V0z\" fill=\"none\"/>\n",
              "    <path d=\"M18.56 5.44l.94 2.06.94-2.06 2.06-.94-2.06-.94-.94-2.06-.94 2.06-2.06.94zm-11 1L8.5 8.5l.94-2.06 2.06-.94-2.06-.94L8.5 2.5l-.94 2.06-2.06.94zm10 10l.94 2.06.94-2.06 2.06-.94-2.06-.94-.94-2.06-.94 2.06-2.06.94z\"/><path d=\"M17.41 7.96l-1.37-1.37c-.4-.4-.92-.59-1.43-.59-.52 0-1.04.2-1.43.59L10.3 9.45l-7.72 7.72c-.78.78-.78 2.05 0 2.83L4 21.41c.39.39.9.59 1.41.59.51 0 1.02-.2 1.41-.59l7.78-7.78 2.81-2.81c.8-.78.8-2.07 0-2.86zM5.41 20L4 18.59l7.72-7.72 1.47 1.35L5.41 20z\"/>\n",
              "  </svg>\n",
              "      </button>\n",
              "      \n",
              "  <style>\n",
              "    .colab-df-container {\n",
              "      display:flex;\n",
              "      flex-wrap:wrap;\n",
              "      gap: 12px;\n",
              "    }\n",
              "\n",
              "    .colab-df-convert {\n",
              "      background-color: #E8F0FE;\n",
              "      border: none;\n",
              "      border-radius: 50%;\n",
              "      cursor: pointer;\n",
              "      display: none;\n",
              "      fill: #1967D2;\n",
              "      height: 32px;\n",
              "      padding: 0 0 0 0;\n",
              "      width: 32px;\n",
              "    }\n",
              "\n",
              "    .colab-df-convert:hover {\n",
              "      background-color: #E2EBFA;\n",
              "      box-shadow: 0px 1px 2px rgba(60, 64, 67, 0.3), 0px 1px 3px 1px rgba(60, 64, 67, 0.15);\n",
              "      fill: #174EA6;\n",
              "    }\n",
              "\n",
              "    [theme=dark] .colab-df-convert {\n",
              "      background-color: #3B4455;\n",
              "      fill: #D2E3FC;\n",
              "    }\n",
              "\n",
              "    [theme=dark] .colab-df-convert:hover {\n",
              "      background-color: #434B5C;\n",
              "      box-shadow: 0px 1px 3px 1px rgba(0, 0, 0, 0.15);\n",
              "      filter: drop-shadow(0px 1px 2px rgba(0, 0, 0, 0.3));\n",
              "      fill: #FFFFFF;\n",
              "    }\n",
              "  </style>\n",
              "\n",
              "      <script>\n",
              "        const buttonEl =\n",
              "          document.querySelector('#df-439b969b-21ed-40d2-b8da-11c52258a839 button.colab-df-convert');\n",
              "        buttonEl.style.display =\n",
              "          google.colab.kernel.accessAllowed ? 'block' : 'none';\n",
              "\n",
              "        async function convertToInteractive(key) {\n",
              "          const element = document.querySelector('#df-439b969b-21ed-40d2-b8da-11c52258a839');\n",
              "          const dataTable =\n",
              "            await google.colab.kernel.invokeFunction('convertToInteractive',\n",
              "                                                     [key], {});\n",
              "          if (!dataTable) return;\n",
              "\n",
              "          const docLinkHtml = 'Like what you see? Visit the ' +\n",
              "            '<a target=\"_blank\" href=https://colab.research.google.com/notebooks/data_table.ipynb>data table notebook</a>'\n",
              "            + ' to learn more about interactive tables.';\n",
              "          element.innerHTML = '';\n",
              "          dataTable['output_type'] = 'display_data';\n",
              "          await google.colab.output.renderOutput(dataTable, element);\n",
              "          const docLink = document.createElement('div');\n",
              "          docLink.innerHTML = docLinkHtml;\n",
              "          element.appendChild(docLink);\n",
              "        }\n",
              "      </script>\n",
              "    </div>\n",
              "  </div>\n",
              "  "
            ]
          },
          "metadata": {},
          "execution_count": 21
        }
      ]
    },
    {
      "cell_type": "code",
      "source": [
        "#Ultimas filas de la tabla data\n",
        "data.tail()"
      ],
      "metadata": {
        "colab": {
          "base_uri": "https://localhost:8080/",
          "height": 206
        },
        "id": "vZntebzRbZqr",
        "outputId": "a37cd8c5-77ab-45f4-fc0d-6e224bf99f9f"
      },
      "execution_count": null,
      "outputs": [
        {
          "output_type": "execute_result",
          "data": {
            "text/plain": [
              "           City        Borough  Neighborhood   Latitude  Longitude\n",
              "404  Nueva York      Manhattan  Hudson Yards  40.756658 -74.000111\n",
              "405  Nueva York         Queens       Hammels  40.587338 -73.805530\n",
              "406  Nueva York         Queens     Bayswater  40.611322 -73.765968\n",
              "407  Nueva York         Queens  Queensbridge  40.756091 -73.945631\n",
              "408  Nueva York  Staten Island     Fox Hills  40.617311 -74.081740"
            ],
            "text/html": [
              "\n",
              "  <div id=\"df-a1b158ab-0a0d-4393-adf3-849fd13b8195\">\n",
              "    <div class=\"colab-df-container\">\n",
              "      <div>\n",
              "<style scoped>\n",
              "    .dataframe tbody tr th:only-of-type {\n",
              "        vertical-align: middle;\n",
              "    }\n",
              "\n",
              "    .dataframe tbody tr th {\n",
              "        vertical-align: top;\n",
              "    }\n",
              "\n",
              "    .dataframe thead th {\n",
              "        text-align: right;\n",
              "    }\n",
              "</style>\n",
              "<table border=\"1\" class=\"dataframe\">\n",
              "  <thead>\n",
              "    <tr style=\"text-align: right;\">\n",
              "      <th></th>\n",
              "      <th>City</th>\n",
              "      <th>Borough</th>\n",
              "      <th>Neighborhood</th>\n",
              "      <th>Latitude</th>\n",
              "      <th>Longitude</th>\n",
              "    </tr>\n",
              "  </thead>\n",
              "  <tbody>\n",
              "    <tr>\n",
              "      <th>404</th>\n",
              "      <td>Nueva York</td>\n",
              "      <td>Manhattan</td>\n",
              "      <td>Hudson Yards</td>\n",
              "      <td>40.756658</td>\n",
              "      <td>-74.000111</td>\n",
              "    </tr>\n",
              "    <tr>\n",
              "      <th>405</th>\n",
              "      <td>Nueva York</td>\n",
              "      <td>Queens</td>\n",
              "      <td>Hammels</td>\n",
              "      <td>40.587338</td>\n",
              "      <td>-73.805530</td>\n",
              "    </tr>\n",
              "    <tr>\n",
              "      <th>406</th>\n",
              "      <td>Nueva York</td>\n",
              "      <td>Queens</td>\n",
              "      <td>Bayswater</td>\n",
              "      <td>40.611322</td>\n",
              "      <td>-73.765968</td>\n",
              "    </tr>\n",
              "    <tr>\n",
              "      <th>407</th>\n",
              "      <td>Nueva York</td>\n",
              "      <td>Queens</td>\n",
              "      <td>Queensbridge</td>\n",
              "      <td>40.756091</td>\n",
              "      <td>-73.945631</td>\n",
              "    </tr>\n",
              "    <tr>\n",
              "      <th>408</th>\n",
              "      <td>Nueva York</td>\n",
              "      <td>Staten Island</td>\n",
              "      <td>Fox Hills</td>\n",
              "      <td>40.617311</td>\n",
              "      <td>-74.081740</td>\n",
              "    </tr>\n",
              "  </tbody>\n",
              "</table>\n",
              "</div>\n",
              "      <button class=\"colab-df-convert\" onclick=\"convertToInteractive('df-a1b158ab-0a0d-4393-adf3-849fd13b8195')\"\n",
              "              title=\"Convert this dataframe to an interactive table.\"\n",
              "              style=\"display:none;\">\n",
              "        \n",
              "  <svg xmlns=\"http://www.w3.org/2000/svg\" height=\"24px\"viewBox=\"0 0 24 24\"\n",
              "       width=\"24px\">\n",
              "    <path d=\"M0 0h24v24H0V0z\" fill=\"none\"/>\n",
              "    <path d=\"M18.56 5.44l.94 2.06.94-2.06 2.06-.94-2.06-.94-.94-2.06-.94 2.06-2.06.94zm-11 1L8.5 8.5l.94-2.06 2.06-.94-2.06-.94L8.5 2.5l-.94 2.06-2.06.94zm10 10l.94 2.06.94-2.06 2.06-.94-2.06-.94-.94-2.06-.94 2.06-2.06.94z\"/><path d=\"M17.41 7.96l-1.37-1.37c-.4-.4-.92-.59-1.43-.59-.52 0-1.04.2-1.43.59L10.3 9.45l-7.72 7.72c-.78.78-.78 2.05 0 2.83L4 21.41c.39.39.9.59 1.41.59.51 0 1.02-.2 1.41-.59l7.78-7.78 2.81-2.81c.8-.78.8-2.07 0-2.86zM5.41 20L4 18.59l7.72-7.72 1.47 1.35L5.41 20z\"/>\n",
              "  </svg>\n",
              "      </button>\n",
              "      \n",
              "  <style>\n",
              "    .colab-df-container {\n",
              "      display:flex;\n",
              "      flex-wrap:wrap;\n",
              "      gap: 12px;\n",
              "    }\n",
              "\n",
              "    .colab-df-convert {\n",
              "      background-color: #E8F0FE;\n",
              "      border: none;\n",
              "      border-radius: 50%;\n",
              "      cursor: pointer;\n",
              "      display: none;\n",
              "      fill: #1967D2;\n",
              "      height: 32px;\n",
              "      padding: 0 0 0 0;\n",
              "      width: 32px;\n",
              "    }\n",
              "\n",
              "    .colab-df-convert:hover {\n",
              "      background-color: #E2EBFA;\n",
              "      box-shadow: 0px 1px 2px rgba(60, 64, 67, 0.3), 0px 1px 3px 1px rgba(60, 64, 67, 0.15);\n",
              "      fill: #174EA6;\n",
              "    }\n",
              "\n",
              "    [theme=dark] .colab-df-convert {\n",
              "      background-color: #3B4455;\n",
              "      fill: #D2E3FC;\n",
              "    }\n",
              "\n",
              "    [theme=dark] .colab-df-convert:hover {\n",
              "      background-color: #434B5C;\n",
              "      box-shadow: 0px 1px 3px 1px rgba(0, 0, 0, 0.15);\n",
              "      filter: drop-shadow(0px 1px 2px rgba(0, 0, 0, 0.3));\n",
              "      fill: #FFFFFF;\n",
              "    }\n",
              "  </style>\n",
              "\n",
              "      <script>\n",
              "        const buttonEl =\n",
              "          document.querySelector('#df-a1b158ab-0a0d-4393-adf3-849fd13b8195 button.colab-df-convert');\n",
              "        buttonEl.style.display =\n",
              "          google.colab.kernel.accessAllowed ? 'block' : 'none';\n",
              "\n",
              "        async function convertToInteractive(key) {\n",
              "          const element = document.querySelector('#df-a1b158ab-0a0d-4393-adf3-849fd13b8195');\n",
              "          const dataTable =\n",
              "            await google.colab.kernel.invokeFunction('convertToInteractive',\n",
              "                                                     [key], {});\n",
              "          if (!dataTable) return;\n",
              "\n",
              "          const docLinkHtml = 'Like what you see? Visit the ' +\n",
              "            '<a target=\"_blank\" href=https://colab.research.google.com/notebooks/data_table.ipynb>data table notebook</a>'\n",
              "            + ' to learn more about interactive tables.';\n",
              "          element.innerHTML = '';\n",
              "          dataTable['output_type'] = 'display_data';\n",
              "          await google.colab.output.renderOutput(dataTable, element);\n",
              "          const docLink = document.createElement('div');\n",
              "          docLink.innerHTML = docLinkHtml;\n",
              "          element.appendChild(docLink);\n",
              "        }\n",
              "      </script>\n",
              "    </div>\n",
              "  </div>\n",
              "  "
            ]
          },
          "metadata": {},
          "execution_count": 22
        }
      ]
    },
    {
      "cell_type": "code",
      "source": [
        "data.shape"
      ],
      "metadata": {
        "colab": {
          "base_uri": "https://localhost:8080/"
        },
        "id": "_xCIxxv1mTb6",
        "outputId": "4f7486ab-8678-4b51-9ce5-5919b5410525"
      },
      "execution_count": null,
      "outputs": [
        {
          "output_type": "execute_result",
          "data": {
            "text/plain": [
              "(409, 5)"
            ]
          },
          "metadata": {},
          "execution_count": 23
        }
      ]
    },
    {
      "cell_type": "markdown",
      "source": [
        "####Descripción y visualización de los datos<a name=\"Desc\"></a>"
      ],
      "metadata": {
        "id": "7kFiXCb_epZw"
      }
    },
    {
      "cell_type": "markdown",
      "source": [
        "#####Cantidad de vecindarios en cada ciudad:"
      ],
      "metadata": {
        "id": "kHNafl63outs"
      }
    },
    {
      "cell_type": "code",
      "source": [
        "#Cantidad de vecindarios en cada ciudad\n",
        "NeigNY_count = data['City'].value_counts()[0]\n",
        "NeigTo_count = data['City'].value_counts()[1]\n",
        "print('Cantidad de vecindarios en Toronto: {} '.format(NeigTo_count))\n",
        "print('Cantidad de vecindarios en New York: {} '.format(NeigNY_count))\n",
        "\n",
        "                                                             "
      ],
      "metadata": {
        "colab": {
          "base_uri": "https://localhost:8080/"
        },
        "id": "uDufyqjye2oh",
        "outputId": "0f16d7a4-b555-4846-9bf8-bd8e91ad2ba7"
      },
      "execution_count": null,
      "outputs": [
        {
          "output_type": "stream",
          "name": "stdout",
          "text": [
            "Cantidad de vecindarios en Toronto: 103 \n",
            "Cantidad de vecindarios en New York: 306 \n"
          ]
        }
      ]
    },
    {
      "cell_type": "markdown",
      "source": [
        "#####Tablas de distribución de los vecindarios dentro de los municipios de cada ciudad"
      ],
      "metadata": {
        "id": "n4dvXRS_pDpj"
      }
    },
    {
      "cell_type": "markdown",
      "source": [
        "######En Toronto:"
      ],
      "metadata": {
        "id": "93W2NpoMqfUN"
      }
    },
    {
      "cell_type": "code",
      "source": [
        "Neigh_counts_To = data[data['City']=='Toronto']['Borough'].value_counts().rename_axis('Toronto Borough').reset_index(name='Neighborhood counts')\n",
        "Neigh_counts_To"
      ],
      "metadata": {
        "colab": {
          "base_uri": "https://localhost:8080/",
          "height": 520
        },
        "id": "7u39ExZhkNRf",
        "outputId": "6e86b545-f55c-4158-a5a6-d55be4bd5933"
      },
      "execution_count": null,
      "outputs": [
        {
          "output_type": "execute_result",
          "data": {
            "text/plain": [
              "                                      Toronto Borough  Neighborhood counts\n",
              "0                                          North York                   24\n",
              "1                                    Downtown Toronto                   17\n",
              "2                                         Scarborough                   17\n",
              "3                                           Etobicoke                   11\n",
              "4                                     Central Toronto                    9\n",
              "5                                        West Toronto                    6\n",
              "6                                                York                    5\n",
              "7                                           East York                    4\n",
              "8                                        East Toronto                    4\n",
              "9                                        Queen's Park                    1\n",
              "10                              East YorkEast Toronto                    1\n",
              "11   MississaugaCanada Post Gateway Processing Centre                    1\n",
              "12     Downtown TorontoStn A PO Boxes25 The Esplanade                    1\n",
              "13                                 EtobicokeNorthwest                    1\n",
              "14  East TorontoBusiness reply mail Processing Cen...                    1"
            ],
            "text/html": [
              "\n",
              "  <div id=\"df-7a3d8606-bc52-4095-ac5f-cfb47da8a051\">\n",
              "    <div class=\"colab-df-container\">\n",
              "      <div>\n",
              "<style scoped>\n",
              "    .dataframe tbody tr th:only-of-type {\n",
              "        vertical-align: middle;\n",
              "    }\n",
              "\n",
              "    .dataframe tbody tr th {\n",
              "        vertical-align: top;\n",
              "    }\n",
              "\n",
              "    .dataframe thead th {\n",
              "        text-align: right;\n",
              "    }\n",
              "</style>\n",
              "<table border=\"1\" class=\"dataframe\">\n",
              "  <thead>\n",
              "    <tr style=\"text-align: right;\">\n",
              "      <th></th>\n",
              "      <th>Toronto Borough</th>\n",
              "      <th>Neighborhood counts</th>\n",
              "    </tr>\n",
              "  </thead>\n",
              "  <tbody>\n",
              "    <tr>\n",
              "      <th>0</th>\n",
              "      <td>North York</td>\n",
              "      <td>24</td>\n",
              "    </tr>\n",
              "    <tr>\n",
              "      <th>1</th>\n",
              "      <td>Downtown Toronto</td>\n",
              "      <td>17</td>\n",
              "    </tr>\n",
              "    <tr>\n",
              "      <th>2</th>\n",
              "      <td>Scarborough</td>\n",
              "      <td>17</td>\n",
              "    </tr>\n",
              "    <tr>\n",
              "      <th>3</th>\n",
              "      <td>Etobicoke</td>\n",
              "      <td>11</td>\n",
              "    </tr>\n",
              "    <tr>\n",
              "      <th>4</th>\n",
              "      <td>Central Toronto</td>\n",
              "      <td>9</td>\n",
              "    </tr>\n",
              "    <tr>\n",
              "      <th>5</th>\n",
              "      <td>West Toronto</td>\n",
              "      <td>6</td>\n",
              "    </tr>\n",
              "    <tr>\n",
              "      <th>6</th>\n",
              "      <td>York</td>\n",
              "      <td>5</td>\n",
              "    </tr>\n",
              "    <tr>\n",
              "      <th>7</th>\n",
              "      <td>East York</td>\n",
              "      <td>4</td>\n",
              "    </tr>\n",
              "    <tr>\n",
              "      <th>8</th>\n",
              "      <td>East Toronto</td>\n",
              "      <td>4</td>\n",
              "    </tr>\n",
              "    <tr>\n",
              "      <th>9</th>\n",
              "      <td>Queen's Park</td>\n",
              "      <td>1</td>\n",
              "    </tr>\n",
              "    <tr>\n",
              "      <th>10</th>\n",
              "      <td>East YorkEast Toronto</td>\n",
              "      <td>1</td>\n",
              "    </tr>\n",
              "    <tr>\n",
              "      <th>11</th>\n",
              "      <td>MississaugaCanada Post Gateway Processing Centre</td>\n",
              "      <td>1</td>\n",
              "    </tr>\n",
              "    <tr>\n",
              "      <th>12</th>\n",
              "      <td>Downtown TorontoStn A PO Boxes25 The Esplanade</td>\n",
              "      <td>1</td>\n",
              "    </tr>\n",
              "    <tr>\n",
              "      <th>13</th>\n",
              "      <td>EtobicokeNorthwest</td>\n",
              "      <td>1</td>\n",
              "    </tr>\n",
              "    <tr>\n",
              "      <th>14</th>\n",
              "      <td>East TorontoBusiness reply mail Processing Cen...</td>\n",
              "      <td>1</td>\n",
              "    </tr>\n",
              "  </tbody>\n",
              "</table>\n",
              "</div>\n",
              "      <button class=\"colab-df-convert\" onclick=\"convertToInteractive('df-7a3d8606-bc52-4095-ac5f-cfb47da8a051')\"\n",
              "              title=\"Convert this dataframe to an interactive table.\"\n",
              "              style=\"display:none;\">\n",
              "        \n",
              "  <svg xmlns=\"http://www.w3.org/2000/svg\" height=\"24px\"viewBox=\"0 0 24 24\"\n",
              "       width=\"24px\">\n",
              "    <path d=\"M0 0h24v24H0V0z\" fill=\"none\"/>\n",
              "    <path d=\"M18.56 5.44l.94 2.06.94-2.06 2.06-.94-2.06-.94-.94-2.06-.94 2.06-2.06.94zm-11 1L8.5 8.5l.94-2.06 2.06-.94-2.06-.94L8.5 2.5l-.94 2.06-2.06.94zm10 10l.94 2.06.94-2.06 2.06-.94-2.06-.94-.94-2.06-.94 2.06-2.06.94z\"/><path d=\"M17.41 7.96l-1.37-1.37c-.4-.4-.92-.59-1.43-.59-.52 0-1.04.2-1.43.59L10.3 9.45l-7.72 7.72c-.78.78-.78 2.05 0 2.83L4 21.41c.39.39.9.59 1.41.59.51 0 1.02-.2 1.41-.59l7.78-7.78 2.81-2.81c.8-.78.8-2.07 0-2.86zM5.41 20L4 18.59l7.72-7.72 1.47 1.35L5.41 20z\"/>\n",
              "  </svg>\n",
              "      </button>\n",
              "      \n",
              "  <style>\n",
              "    .colab-df-container {\n",
              "      display:flex;\n",
              "      flex-wrap:wrap;\n",
              "      gap: 12px;\n",
              "    }\n",
              "\n",
              "    .colab-df-convert {\n",
              "      background-color: #E8F0FE;\n",
              "      border: none;\n",
              "      border-radius: 50%;\n",
              "      cursor: pointer;\n",
              "      display: none;\n",
              "      fill: #1967D2;\n",
              "      height: 32px;\n",
              "      padding: 0 0 0 0;\n",
              "      width: 32px;\n",
              "    }\n",
              "\n",
              "    .colab-df-convert:hover {\n",
              "      background-color: #E2EBFA;\n",
              "      box-shadow: 0px 1px 2px rgba(60, 64, 67, 0.3), 0px 1px 3px 1px rgba(60, 64, 67, 0.15);\n",
              "      fill: #174EA6;\n",
              "    }\n",
              "\n",
              "    [theme=dark] .colab-df-convert {\n",
              "      background-color: #3B4455;\n",
              "      fill: #D2E3FC;\n",
              "    }\n",
              "\n",
              "    [theme=dark] .colab-df-convert:hover {\n",
              "      background-color: #434B5C;\n",
              "      box-shadow: 0px 1px 3px 1px rgba(0, 0, 0, 0.15);\n",
              "      filter: drop-shadow(0px 1px 2px rgba(0, 0, 0, 0.3));\n",
              "      fill: #FFFFFF;\n",
              "    }\n",
              "  </style>\n",
              "\n",
              "      <script>\n",
              "        const buttonEl =\n",
              "          document.querySelector('#df-7a3d8606-bc52-4095-ac5f-cfb47da8a051 button.colab-df-convert');\n",
              "        buttonEl.style.display =\n",
              "          google.colab.kernel.accessAllowed ? 'block' : 'none';\n",
              "\n",
              "        async function convertToInteractive(key) {\n",
              "          const element = document.querySelector('#df-7a3d8606-bc52-4095-ac5f-cfb47da8a051');\n",
              "          const dataTable =\n",
              "            await google.colab.kernel.invokeFunction('convertToInteractive',\n",
              "                                                     [key], {});\n",
              "          if (!dataTable) return;\n",
              "\n",
              "          const docLinkHtml = 'Like what you see? Visit the ' +\n",
              "            '<a target=\"_blank\" href=https://colab.research.google.com/notebooks/data_table.ipynb>data table notebook</a>'\n",
              "            + ' to learn more about interactive tables.';\n",
              "          element.innerHTML = '';\n",
              "          dataTable['output_type'] = 'display_data';\n",
              "          await google.colab.output.renderOutput(dataTable, element);\n",
              "          const docLink = document.createElement('div');\n",
              "          docLink.innerHTML = docLinkHtml;\n",
              "          element.appendChild(docLink);\n",
              "        }\n",
              "      </script>\n",
              "    </div>\n",
              "  </div>\n",
              "  "
            ]
          },
          "metadata": {},
          "execution_count": 25
        }
      ]
    },
    {
      "cell_type": "code",
      "source": [
        "Neigh_counts_To_describe = Neigh_counts_To.describe().rename_axis('Measures').reset_index()\n",
        "Neigh_counts_To_describe"
      ],
      "metadata": {
        "colab": {
          "base_uri": "https://localhost:8080/",
          "height": 300
        },
        "id": "NIVz9U-vlOeU",
        "outputId": "c8f42095-dc02-48a2-ddb2-9222f6e802c5"
      },
      "execution_count": null,
      "outputs": [
        {
          "output_type": "execute_result",
          "data": {
            "text/plain": [
              "  Measures  Neighborhood counts\n",
              "0    count            15.000000\n",
              "1     mean             6.866667\n",
              "2      std             7.308182\n",
              "3      min             1.000000\n",
              "4      25%             1.000000\n",
              "5      50%             4.000000\n",
              "6      75%            10.000000\n",
              "7      max            24.000000"
            ],
            "text/html": [
              "\n",
              "  <div id=\"df-4d3978c4-3c05-444c-8248-f94512474fba\">\n",
              "    <div class=\"colab-df-container\">\n",
              "      <div>\n",
              "<style scoped>\n",
              "    .dataframe tbody tr th:only-of-type {\n",
              "        vertical-align: middle;\n",
              "    }\n",
              "\n",
              "    .dataframe tbody tr th {\n",
              "        vertical-align: top;\n",
              "    }\n",
              "\n",
              "    .dataframe thead th {\n",
              "        text-align: right;\n",
              "    }\n",
              "</style>\n",
              "<table border=\"1\" class=\"dataframe\">\n",
              "  <thead>\n",
              "    <tr style=\"text-align: right;\">\n",
              "      <th></th>\n",
              "      <th>Measures</th>\n",
              "      <th>Neighborhood counts</th>\n",
              "    </tr>\n",
              "  </thead>\n",
              "  <tbody>\n",
              "    <tr>\n",
              "      <th>0</th>\n",
              "      <td>count</td>\n",
              "      <td>15.000000</td>\n",
              "    </tr>\n",
              "    <tr>\n",
              "      <th>1</th>\n",
              "      <td>mean</td>\n",
              "      <td>6.866667</td>\n",
              "    </tr>\n",
              "    <tr>\n",
              "      <th>2</th>\n",
              "      <td>std</td>\n",
              "      <td>7.308182</td>\n",
              "    </tr>\n",
              "    <tr>\n",
              "      <th>3</th>\n",
              "      <td>min</td>\n",
              "      <td>1.000000</td>\n",
              "    </tr>\n",
              "    <tr>\n",
              "      <th>4</th>\n",
              "      <td>25%</td>\n",
              "      <td>1.000000</td>\n",
              "    </tr>\n",
              "    <tr>\n",
              "      <th>5</th>\n",
              "      <td>50%</td>\n",
              "      <td>4.000000</td>\n",
              "    </tr>\n",
              "    <tr>\n",
              "      <th>6</th>\n",
              "      <td>75%</td>\n",
              "      <td>10.000000</td>\n",
              "    </tr>\n",
              "    <tr>\n",
              "      <th>7</th>\n",
              "      <td>max</td>\n",
              "      <td>24.000000</td>\n",
              "    </tr>\n",
              "  </tbody>\n",
              "</table>\n",
              "</div>\n",
              "      <button class=\"colab-df-convert\" onclick=\"convertToInteractive('df-4d3978c4-3c05-444c-8248-f94512474fba')\"\n",
              "              title=\"Convert this dataframe to an interactive table.\"\n",
              "              style=\"display:none;\">\n",
              "        \n",
              "  <svg xmlns=\"http://www.w3.org/2000/svg\" height=\"24px\"viewBox=\"0 0 24 24\"\n",
              "       width=\"24px\">\n",
              "    <path d=\"M0 0h24v24H0V0z\" fill=\"none\"/>\n",
              "    <path d=\"M18.56 5.44l.94 2.06.94-2.06 2.06-.94-2.06-.94-.94-2.06-.94 2.06-2.06.94zm-11 1L8.5 8.5l.94-2.06 2.06-.94-2.06-.94L8.5 2.5l-.94 2.06-2.06.94zm10 10l.94 2.06.94-2.06 2.06-.94-2.06-.94-.94-2.06-.94 2.06-2.06.94z\"/><path d=\"M17.41 7.96l-1.37-1.37c-.4-.4-.92-.59-1.43-.59-.52 0-1.04.2-1.43.59L10.3 9.45l-7.72 7.72c-.78.78-.78 2.05 0 2.83L4 21.41c.39.39.9.59 1.41.59.51 0 1.02-.2 1.41-.59l7.78-7.78 2.81-2.81c.8-.78.8-2.07 0-2.86zM5.41 20L4 18.59l7.72-7.72 1.47 1.35L5.41 20z\"/>\n",
              "  </svg>\n",
              "      </button>\n",
              "      \n",
              "  <style>\n",
              "    .colab-df-container {\n",
              "      display:flex;\n",
              "      flex-wrap:wrap;\n",
              "      gap: 12px;\n",
              "    }\n",
              "\n",
              "    .colab-df-convert {\n",
              "      background-color: #E8F0FE;\n",
              "      border: none;\n",
              "      border-radius: 50%;\n",
              "      cursor: pointer;\n",
              "      display: none;\n",
              "      fill: #1967D2;\n",
              "      height: 32px;\n",
              "      padding: 0 0 0 0;\n",
              "      width: 32px;\n",
              "    }\n",
              "\n",
              "    .colab-df-convert:hover {\n",
              "      background-color: #E2EBFA;\n",
              "      box-shadow: 0px 1px 2px rgba(60, 64, 67, 0.3), 0px 1px 3px 1px rgba(60, 64, 67, 0.15);\n",
              "      fill: #174EA6;\n",
              "    }\n",
              "\n",
              "    [theme=dark] .colab-df-convert {\n",
              "      background-color: #3B4455;\n",
              "      fill: #D2E3FC;\n",
              "    }\n",
              "\n",
              "    [theme=dark] .colab-df-convert:hover {\n",
              "      background-color: #434B5C;\n",
              "      box-shadow: 0px 1px 3px 1px rgba(0, 0, 0, 0.15);\n",
              "      filter: drop-shadow(0px 1px 2px rgba(0, 0, 0, 0.3));\n",
              "      fill: #FFFFFF;\n",
              "    }\n",
              "  </style>\n",
              "\n",
              "      <script>\n",
              "        const buttonEl =\n",
              "          document.querySelector('#df-4d3978c4-3c05-444c-8248-f94512474fba button.colab-df-convert');\n",
              "        buttonEl.style.display =\n",
              "          google.colab.kernel.accessAllowed ? 'block' : 'none';\n",
              "\n",
              "        async function convertToInteractive(key) {\n",
              "          const element = document.querySelector('#df-4d3978c4-3c05-444c-8248-f94512474fba');\n",
              "          const dataTable =\n",
              "            await google.colab.kernel.invokeFunction('convertToInteractive',\n",
              "                                                     [key], {});\n",
              "          if (!dataTable) return;\n",
              "\n",
              "          const docLinkHtml = 'Like what you see? Visit the ' +\n",
              "            '<a target=\"_blank\" href=https://colab.research.google.com/notebooks/data_table.ipynb>data table notebook</a>'\n",
              "            + ' to learn more about interactive tables.';\n",
              "          element.innerHTML = '';\n",
              "          dataTable['output_type'] = 'display_data';\n",
              "          await google.colab.output.renderOutput(dataTable, element);\n",
              "          const docLink = document.createElement('div');\n",
              "          docLink.innerHTML = docLinkHtml;\n",
              "          element.appendChild(docLink);\n",
              "        }\n",
              "      </script>\n",
              "    </div>\n",
              "  </div>\n",
              "  "
            ]
          },
          "metadata": {},
          "execution_count": 26
        }
      ]
    },
    {
      "cell_type": "markdown",
      "source": [
        "######En Nueva York:"
      ],
      "metadata": {
        "id": "8k33BbhEpocW"
      }
    },
    {
      "cell_type": "code",
      "source": [
        "Neigh_counts_NY = data[data['City']=='Nueva York']['Borough'].value_counts().rename_axis('Nueva York Borough').reset_index(name='Neighborhood counts')\n",
        "Neigh_counts_NY"
      ],
      "metadata": {
        "colab": {
          "base_uri": "https://localhost:8080/",
          "height": 206
        },
        "id": "zcRoNQItmNMZ",
        "outputId": "dcfcfcec-1d6f-4087-b5eb-9c9b603e1fff"
      },
      "execution_count": null,
      "outputs": [
        {
          "output_type": "execute_result",
          "data": {
            "text/plain": [
              "  Nueva York Borough  Neighborhood counts\n",
              "0             Queens                   81\n",
              "1           Brooklyn                   70\n",
              "2      Staten Island                   63\n",
              "3              Bronx                   52\n",
              "4          Manhattan                   40"
            ],
            "text/html": [
              "\n",
              "  <div id=\"df-011e6bb4-66cb-4970-bcba-936d72dc8920\">\n",
              "    <div class=\"colab-df-container\">\n",
              "      <div>\n",
              "<style scoped>\n",
              "    .dataframe tbody tr th:only-of-type {\n",
              "        vertical-align: middle;\n",
              "    }\n",
              "\n",
              "    .dataframe tbody tr th {\n",
              "        vertical-align: top;\n",
              "    }\n",
              "\n",
              "    .dataframe thead th {\n",
              "        text-align: right;\n",
              "    }\n",
              "</style>\n",
              "<table border=\"1\" class=\"dataframe\">\n",
              "  <thead>\n",
              "    <tr style=\"text-align: right;\">\n",
              "      <th></th>\n",
              "      <th>Nueva York Borough</th>\n",
              "      <th>Neighborhood counts</th>\n",
              "    </tr>\n",
              "  </thead>\n",
              "  <tbody>\n",
              "    <tr>\n",
              "      <th>0</th>\n",
              "      <td>Queens</td>\n",
              "      <td>81</td>\n",
              "    </tr>\n",
              "    <tr>\n",
              "      <th>1</th>\n",
              "      <td>Brooklyn</td>\n",
              "      <td>70</td>\n",
              "    </tr>\n",
              "    <tr>\n",
              "      <th>2</th>\n",
              "      <td>Staten Island</td>\n",
              "      <td>63</td>\n",
              "    </tr>\n",
              "    <tr>\n",
              "      <th>3</th>\n",
              "      <td>Bronx</td>\n",
              "      <td>52</td>\n",
              "    </tr>\n",
              "    <tr>\n",
              "      <th>4</th>\n",
              "      <td>Manhattan</td>\n",
              "      <td>40</td>\n",
              "    </tr>\n",
              "  </tbody>\n",
              "</table>\n",
              "</div>\n",
              "      <button class=\"colab-df-convert\" onclick=\"convertToInteractive('df-011e6bb4-66cb-4970-bcba-936d72dc8920')\"\n",
              "              title=\"Convert this dataframe to an interactive table.\"\n",
              "              style=\"display:none;\">\n",
              "        \n",
              "  <svg xmlns=\"http://www.w3.org/2000/svg\" height=\"24px\"viewBox=\"0 0 24 24\"\n",
              "       width=\"24px\">\n",
              "    <path d=\"M0 0h24v24H0V0z\" fill=\"none\"/>\n",
              "    <path d=\"M18.56 5.44l.94 2.06.94-2.06 2.06-.94-2.06-.94-.94-2.06-.94 2.06-2.06.94zm-11 1L8.5 8.5l.94-2.06 2.06-.94-2.06-.94L8.5 2.5l-.94 2.06-2.06.94zm10 10l.94 2.06.94-2.06 2.06-.94-2.06-.94-.94-2.06-.94 2.06-2.06.94z\"/><path d=\"M17.41 7.96l-1.37-1.37c-.4-.4-.92-.59-1.43-.59-.52 0-1.04.2-1.43.59L10.3 9.45l-7.72 7.72c-.78.78-.78 2.05 0 2.83L4 21.41c.39.39.9.59 1.41.59.51 0 1.02-.2 1.41-.59l7.78-7.78 2.81-2.81c.8-.78.8-2.07 0-2.86zM5.41 20L4 18.59l7.72-7.72 1.47 1.35L5.41 20z\"/>\n",
              "  </svg>\n",
              "      </button>\n",
              "      \n",
              "  <style>\n",
              "    .colab-df-container {\n",
              "      display:flex;\n",
              "      flex-wrap:wrap;\n",
              "      gap: 12px;\n",
              "    }\n",
              "\n",
              "    .colab-df-convert {\n",
              "      background-color: #E8F0FE;\n",
              "      border: none;\n",
              "      border-radius: 50%;\n",
              "      cursor: pointer;\n",
              "      display: none;\n",
              "      fill: #1967D2;\n",
              "      height: 32px;\n",
              "      padding: 0 0 0 0;\n",
              "      width: 32px;\n",
              "    }\n",
              "\n",
              "    .colab-df-convert:hover {\n",
              "      background-color: #E2EBFA;\n",
              "      box-shadow: 0px 1px 2px rgba(60, 64, 67, 0.3), 0px 1px 3px 1px rgba(60, 64, 67, 0.15);\n",
              "      fill: #174EA6;\n",
              "    }\n",
              "\n",
              "    [theme=dark] .colab-df-convert {\n",
              "      background-color: #3B4455;\n",
              "      fill: #D2E3FC;\n",
              "    }\n",
              "\n",
              "    [theme=dark] .colab-df-convert:hover {\n",
              "      background-color: #434B5C;\n",
              "      box-shadow: 0px 1px 3px 1px rgba(0, 0, 0, 0.15);\n",
              "      filter: drop-shadow(0px 1px 2px rgba(0, 0, 0, 0.3));\n",
              "      fill: #FFFFFF;\n",
              "    }\n",
              "  </style>\n",
              "\n",
              "      <script>\n",
              "        const buttonEl =\n",
              "          document.querySelector('#df-011e6bb4-66cb-4970-bcba-936d72dc8920 button.colab-df-convert');\n",
              "        buttonEl.style.display =\n",
              "          google.colab.kernel.accessAllowed ? 'block' : 'none';\n",
              "\n",
              "        async function convertToInteractive(key) {\n",
              "          const element = document.querySelector('#df-011e6bb4-66cb-4970-bcba-936d72dc8920');\n",
              "          const dataTable =\n",
              "            await google.colab.kernel.invokeFunction('convertToInteractive',\n",
              "                                                     [key], {});\n",
              "          if (!dataTable) return;\n",
              "\n",
              "          const docLinkHtml = 'Like what you see? Visit the ' +\n",
              "            '<a target=\"_blank\" href=https://colab.research.google.com/notebooks/data_table.ipynb>data table notebook</a>'\n",
              "            + ' to learn more about interactive tables.';\n",
              "          element.innerHTML = '';\n",
              "          dataTable['output_type'] = 'display_data';\n",
              "          await google.colab.output.renderOutput(dataTable, element);\n",
              "          const docLink = document.createElement('div');\n",
              "          docLink.innerHTML = docLinkHtml;\n",
              "          element.appendChild(docLink);\n",
              "        }\n",
              "      </script>\n",
              "    </div>\n",
              "  </div>\n",
              "  "
            ]
          },
          "metadata": {},
          "execution_count": 27
        }
      ]
    },
    {
      "cell_type": "code",
      "source": [
        "Neigh_counts_NY_describe = Neigh_counts_NY.describe().rename_axis('Measures').reset_index()\n",
        "Neigh_counts_NY_describe "
      ],
      "metadata": {
        "colab": {
          "base_uri": "https://localhost:8080/",
          "height": 300
        },
        "id": "GVn8HgKpe7aY",
        "outputId": "2aed6b2b-3784-438c-8d24-11db6e44ab60"
      },
      "execution_count": null,
      "outputs": [
        {
          "output_type": "execute_result",
          "data": {
            "text/plain": [
              "  Measures  Neighborhood counts\n",
              "0    count             5.000000\n",
              "1     mean            61.200000\n",
              "2      std            15.865056\n",
              "3      min            40.000000\n",
              "4      25%            52.000000\n",
              "5      50%            63.000000\n",
              "6      75%            70.000000\n",
              "7      max            81.000000"
            ],
            "text/html": [
              "\n",
              "  <div id=\"df-d9fffaf7-38d6-4b17-a647-9654b70f2290\">\n",
              "    <div class=\"colab-df-container\">\n",
              "      <div>\n",
              "<style scoped>\n",
              "    .dataframe tbody tr th:only-of-type {\n",
              "        vertical-align: middle;\n",
              "    }\n",
              "\n",
              "    .dataframe tbody tr th {\n",
              "        vertical-align: top;\n",
              "    }\n",
              "\n",
              "    .dataframe thead th {\n",
              "        text-align: right;\n",
              "    }\n",
              "</style>\n",
              "<table border=\"1\" class=\"dataframe\">\n",
              "  <thead>\n",
              "    <tr style=\"text-align: right;\">\n",
              "      <th></th>\n",
              "      <th>Measures</th>\n",
              "      <th>Neighborhood counts</th>\n",
              "    </tr>\n",
              "  </thead>\n",
              "  <tbody>\n",
              "    <tr>\n",
              "      <th>0</th>\n",
              "      <td>count</td>\n",
              "      <td>5.000000</td>\n",
              "    </tr>\n",
              "    <tr>\n",
              "      <th>1</th>\n",
              "      <td>mean</td>\n",
              "      <td>61.200000</td>\n",
              "    </tr>\n",
              "    <tr>\n",
              "      <th>2</th>\n",
              "      <td>std</td>\n",
              "      <td>15.865056</td>\n",
              "    </tr>\n",
              "    <tr>\n",
              "      <th>3</th>\n",
              "      <td>min</td>\n",
              "      <td>40.000000</td>\n",
              "    </tr>\n",
              "    <tr>\n",
              "      <th>4</th>\n",
              "      <td>25%</td>\n",
              "      <td>52.000000</td>\n",
              "    </tr>\n",
              "    <tr>\n",
              "      <th>5</th>\n",
              "      <td>50%</td>\n",
              "      <td>63.000000</td>\n",
              "    </tr>\n",
              "    <tr>\n",
              "      <th>6</th>\n",
              "      <td>75%</td>\n",
              "      <td>70.000000</td>\n",
              "    </tr>\n",
              "    <tr>\n",
              "      <th>7</th>\n",
              "      <td>max</td>\n",
              "      <td>81.000000</td>\n",
              "    </tr>\n",
              "  </tbody>\n",
              "</table>\n",
              "</div>\n",
              "      <button class=\"colab-df-convert\" onclick=\"convertToInteractive('df-d9fffaf7-38d6-4b17-a647-9654b70f2290')\"\n",
              "              title=\"Convert this dataframe to an interactive table.\"\n",
              "              style=\"display:none;\">\n",
              "        \n",
              "  <svg xmlns=\"http://www.w3.org/2000/svg\" height=\"24px\"viewBox=\"0 0 24 24\"\n",
              "       width=\"24px\">\n",
              "    <path d=\"M0 0h24v24H0V0z\" fill=\"none\"/>\n",
              "    <path d=\"M18.56 5.44l.94 2.06.94-2.06 2.06-.94-2.06-.94-.94-2.06-.94 2.06-2.06.94zm-11 1L8.5 8.5l.94-2.06 2.06-.94-2.06-.94L8.5 2.5l-.94 2.06-2.06.94zm10 10l.94 2.06.94-2.06 2.06-.94-2.06-.94-.94-2.06-.94 2.06-2.06.94z\"/><path d=\"M17.41 7.96l-1.37-1.37c-.4-.4-.92-.59-1.43-.59-.52 0-1.04.2-1.43.59L10.3 9.45l-7.72 7.72c-.78.78-.78 2.05 0 2.83L4 21.41c.39.39.9.59 1.41.59.51 0 1.02-.2 1.41-.59l7.78-7.78 2.81-2.81c.8-.78.8-2.07 0-2.86zM5.41 20L4 18.59l7.72-7.72 1.47 1.35L5.41 20z\"/>\n",
              "  </svg>\n",
              "      </button>\n",
              "      \n",
              "  <style>\n",
              "    .colab-df-container {\n",
              "      display:flex;\n",
              "      flex-wrap:wrap;\n",
              "      gap: 12px;\n",
              "    }\n",
              "\n",
              "    .colab-df-convert {\n",
              "      background-color: #E8F0FE;\n",
              "      border: none;\n",
              "      border-radius: 50%;\n",
              "      cursor: pointer;\n",
              "      display: none;\n",
              "      fill: #1967D2;\n",
              "      height: 32px;\n",
              "      padding: 0 0 0 0;\n",
              "      width: 32px;\n",
              "    }\n",
              "\n",
              "    .colab-df-convert:hover {\n",
              "      background-color: #E2EBFA;\n",
              "      box-shadow: 0px 1px 2px rgba(60, 64, 67, 0.3), 0px 1px 3px 1px rgba(60, 64, 67, 0.15);\n",
              "      fill: #174EA6;\n",
              "    }\n",
              "\n",
              "    [theme=dark] .colab-df-convert {\n",
              "      background-color: #3B4455;\n",
              "      fill: #D2E3FC;\n",
              "    }\n",
              "\n",
              "    [theme=dark] .colab-df-convert:hover {\n",
              "      background-color: #434B5C;\n",
              "      box-shadow: 0px 1px 3px 1px rgba(0, 0, 0, 0.15);\n",
              "      filter: drop-shadow(0px 1px 2px rgba(0, 0, 0, 0.3));\n",
              "      fill: #FFFFFF;\n",
              "    }\n",
              "  </style>\n",
              "\n",
              "      <script>\n",
              "        const buttonEl =\n",
              "          document.querySelector('#df-d9fffaf7-38d6-4b17-a647-9654b70f2290 button.colab-df-convert');\n",
              "        buttonEl.style.display =\n",
              "          google.colab.kernel.accessAllowed ? 'block' : 'none';\n",
              "\n",
              "        async function convertToInteractive(key) {\n",
              "          const element = document.querySelector('#df-d9fffaf7-38d6-4b17-a647-9654b70f2290');\n",
              "          const dataTable =\n",
              "            await google.colab.kernel.invokeFunction('convertToInteractive',\n",
              "                                                     [key], {});\n",
              "          if (!dataTable) return;\n",
              "\n",
              "          const docLinkHtml = 'Like what you see? Visit the ' +\n",
              "            '<a target=\"_blank\" href=https://colab.research.google.com/notebooks/data_table.ipynb>data table notebook</a>'\n",
              "            + ' to learn more about interactive tables.';\n",
              "          element.innerHTML = '';\n",
              "          dataTable['output_type'] = 'display_data';\n",
              "          await google.colab.output.renderOutput(dataTable, element);\n",
              "          const docLink = document.createElement('div');\n",
              "          docLink.innerHTML = docLinkHtml;\n",
              "          element.appendChild(docLink);\n",
              "        }\n",
              "      </script>\n",
              "    </div>\n",
              "  </div>\n",
              "  "
            ]
          },
          "metadata": {},
          "execution_count": 28
        }
      ]
    },
    {
      "cell_type": "code",
      "source": [
        "#Medias de vecindarios por municipio en cada ciudad\n",
        "Neigh_counts_To_describe_mean = Neigh_counts_To_describe[Neigh_counts_To_describe['Measures']=='mean']['Neighborhood counts'][1] \n",
        "Neigh_counts_NY_describe_mean = Neigh_counts_NY_describe[Neigh_counts_NY_describe['Measures']=='mean']['Neighborhood counts'][1] \n",
        "print('La media de vecindarios por municipio en Toronto es: {} '.format(Neigh_counts_To_describe_mean))\n",
        "print('La media de vecindarios por municipio en New York es: {} '.format(Neigh_counts_NY_describe_mean))"
      ],
      "metadata": {
        "colab": {
          "base_uri": "https://localhost:8080/"
        },
        "id": "ZiwJujPzl_nj",
        "outputId": "0b1fed12-d9d4-4abc-abe5-09cc8ed1e48f"
      },
      "execution_count": null,
      "outputs": [
        {
          "output_type": "stream",
          "name": "stdout",
          "text": [
            "La media de vecindarios por municipio en Toronto es: 6.866666666666666 \n",
            "La media de vecindarios por municipio en New York es: 61.2 \n"
          ]
        }
      ]
    },
    {
      "cell_type": "markdown",
      "source": [
        "#####Gráficos de barras de distruibuciones de vecindarios en los municipios de las dos ciudades"
      ],
      "metadata": {
        "id": "laBJf6O6YgLr"
      }
    },
    {
      "cell_type": "code",
      "source": [
        "print('En Toronto:')\n",
        "Neigh_counts_To.plot.barh(x='Toronto Borough', y='Neighborhood counts', \n",
        "             title='Distribución de vecindarios en Municipios de Toronto', color='green')"
      ],
      "metadata": {
        "colab": {
          "base_uri": "https://localhost:8080/",
          "height": 316
        },
        "id": "0736ne8Tq3SE",
        "outputId": "bc208bdd-4c13-4298-941f-36c8f6faec14"
      },
      "execution_count": null,
      "outputs": [
        {
          "output_type": "stream",
          "name": "stdout",
          "text": [
            "En Toronto:\n"
          ]
        },
        {
          "output_type": "execute_result",
          "data": {
            "text/plain": [
              "<matplotlib.axes._subplots.AxesSubplot at 0x7f8b49000f90>"
            ]
          },
          "metadata": {},
          "execution_count": 30
        },
        {
          "output_type": "display_data",
          "data": {
            "text/plain": [
              "<Figure size 432x288 with 1 Axes>"
            ],
            "image/png": "[encoded data removed]"
          },
          "metadata": {
            "needs_background": "light"
          }
        }
      ]
    },
    {
      "cell_type": "code",
      "source": [
        "print('En Nueva York:')\n",
        "Neigh_counts_NY.plot.barh(x='Nueva York Borough', y='Neighborhood counts', \n",
        "             title='Distribución de vecindarios en Municipios de Nueva York', color='green')"
      ],
      "metadata": {
        "colab": {
          "base_uri": "https://localhost:8080/",
          "height": 316
        },
        "id": "EBKBj3BDpvGt",
        "outputId": "ad66eec3-964c-45c9-f9f4-043c0c95c71e"
      },
      "execution_count": null,
      "outputs": [
        {
          "output_type": "stream",
          "name": "stdout",
          "text": [
            "En Nueva York:\n"
          ]
        },
        {
          "output_type": "execute_result",
          "data": {
            "text/plain": [
              "<matplotlib.axes._subplots.AxesSubplot at 0x7f8b48f25ed0>"
            ]
          },
          "metadata": {},
          "execution_count": 31
        },
        {
          "output_type": "display_data",
          "data": {
            "text/plain": [
              "<Figure size 432x288 with 1 Axes>"
            ],
            "image/png": "[encoded data removed]"
          },
          "metadata": {
            "needs_background": "light"
          }
        }
      ]
    },
    {
      "cell_type": "markdown",
      "source": [
        "#####Diagramas de cajas con distribuciones de vecindarios en los municipios de las dos ciudades"
      ],
      "metadata": {
        "id": "99MMTV11ZEPl"
      }
    },
    {
      "cell_type": "code",
      "source": [
        "print('En Toronto:')\n",
        "boxplot_Neigh_counts_To = Neigh_counts_To.boxplot(column=['Neighborhood counts'])"
      ],
      "metadata": {
        "colab": {
          "base_uri": "https://localhost:8080/",
          "height": 285
        },
        "id": "S1RMVb4uf9Ak",
        "outputId": "149184b8-20ef-4840-ad16-bf548232b687"
      },
      "execution_count": null,
      "outputs": [
        {
          "output_type": "stream",
          "name": "stdout",
          "text": [
            "En Toronto:\n"
          ]
        },
        {
          "output_type": "display_data",
          "data": {
            "text/plain": [
              "<Figure size 432x288 with 1 Axes>"
            ],
            "image/png": "[encoded data removed]"
          },
          "metadata": {
            "needs_background": "light"
          }
        }
      ]
    },
    {
      "cell_type": "code",
      "source": [
        "print('En Nueva York:')\n",
        "boxplot_Neigh_counts_NY = Neigh_counts_NY.boxplot(column=['Neighborhood counts'])"
      ],
      "metadata": {
        "colab": {
          "base_uri": "https://localhost:8080/",
          "height": 282
        },
        "id": "PsSgqv5Yszgk",
        "outputId": "df73a869-81ca-42dd-a400-d8fff9f12ff3"
      },
      "execution_count": null,
      "outputs": [
        {
          "output_type": "stream",
          "name": "stdout",
          "text": [
            "En Nueva York:\n"
          ]
        },
        {
          "output_type": "display_data",
          "data": {
            "text/plain": [
              "<Figure size 432x288 with 1 Axes>"
            ],
            "image/png": "[encoded data removed]"
          },
          "metadata": {
            "needs_background": "light"
          }
        }
      ]
    },
    {
      "cell_type": "markdown",
      "source": [
        "###Segunda etapa de recolección<a name=\"segunda\"></a>"
      ],
      "metadata": {
        "id": "iJ1YEyPItC3g"
      }
    },
    {
      "cell_type": "markdown",
      "source": [
        "* [Extracción de datos con la API Foursquare](#Foursquare)\n",
        "* [Primer ejemplo de aplicación: Una descripción general de las categorías de sitios más comunes en los vecindarios](#Ejemplo1)"
      ],
      "metadata": {
        "id": "jcRBkksN-mGX"
      }
    },
    {
      "cell_type": "markdown",
      "source": [
        "####Extracción de datos con la API Foursquare<a name=\"Foursquare\"></a>"
      ],
      "metadata": {
        "id": "3J0Tj_BQ_Vz_"
      }
    },
    {
      "cell_type": "code",
      "source": [
        "#Importamos librería request\n",
        "import requests"
      ],
      "metadata": {
        "id": "9SnusAjTa92-"
      },
      "execution_count": null,
      "outputs": []
    },
    {
      "cell_type": "code",
      "source": [
        "def getNearbyVenues(names, latitudes, longitudes, radius=500):\n",
        "    \n",
        "    venues_list=[]\n",
        "    for name, lat, lng in zip(names, latitudes, longitudes):\n",
        "        print(name, lat, lng)\n",
        "            \n",
        "        # crear la URL de solicitud de API\n",
        "        url = \"https://api.foursquare.com/v3/places/search?ll={}%2C{}&radius={}&limit=50\".format(lat, lng, radius)\n",
        "\n",
        "        headers = {\n",
        "            \"Accept\": \"application/json\",\n",
        "            \"Authorization\": \"fsq32FQVR4rb8gN38EX8nw9vXYrjR0D874DdIeTTJtHhEWU=\"\n",
        "                }\n",
        "\n",
        "        response = requests.get(url, headers=headers)\n",
        "        results = json.loads(response.text)[\"results\"]\n",
        "        # regresa solo información relevante de cada sitio cercano\n",
        "        venues_list.append([(\n",
        "            name, \n",
        "            lat, \n",
        "            lng, \n",
        "            v['name'], \n",
        "            v['geocodes']['main']['latitude'], \n",
        "            v['geocodes']['main']['longitude'],  \n",
        "            v['categories'][0]['name']) for v in results if len(v['categories'])>0 and len(v['geocodes'])>0])\n",
        "\n",
        "    nearby_venues = pd.DataFrame([item for venue_list in venues_list for item in venue_list])\n",
        "    nearby_venues.columns = ['Neighborhood', \n",
        "                  'Neighborhood Latitude', \n",
        "                  'Neighborhood Longitude', \n",
        "                  'Venue', \n",
        "                  'Venue Latitude', \n",
        "                  'Venue Longitude', \n",
        "                  'Venue Category']\n",
        "    \n",
        "    return(nearby_venues)"
      ],
      "metadata": {
        "id": "51KJoEpztWoJ"
      },
      "execution_count": null,
      "outputs": []
    },
    {
      "cell_type": "code",
      "source": [
        "To_NY_venues = getNearbyVenues(data[\"Neighborhood\"], data[\"Latitude\"], data[\"Longitude\"])"
      ],
      "metadata": {
        "colab": {
          "base_uri": "https://localhost:8080/"
        },
        "id": "WRNHcwrvarND",
        "outputId": "f40460a5-640c-4e77-b94f-93a4c71651b9"
      },
      "execution_count": null,
      "outputs": [
        {
          "output_type": "stream",
          "name": "stdout",
          "text": [
            "Parkwoods 43.7532586 -79.3296565\n",
            "Victoria Village 43.7258823 -79.3155716\n",
            "Regent Park , Harbourfront 43.6542599 -79.3606359\n",
            "Lawrence Manor , Lawrence Heights 43.718518 -79.4647633\n",
            "Ontario Provincial Government 43.6623015 -79.3894938\n",
            "Islington Avenue 43.6678556 -79.5322424\n",
            "Malvern , Rouge 43.8066863 -79.1943534\n",
            "Don MillsNorth 43.7459058 -79.352188\n",
            "Parkview Hill , Woodbine Gardens 43.7063972 -79.309937\n",
            "Garden District, Ryerson 43.6571618 -79.3789371\n",
            "Glencairn 43.709577 -79.4450726\n",
            "West Deane Park , Princess Gardens , Martin Grove , Islington , Cloverdale 43.6509432 -79.5547244\n",
            "Rouge Hill , Port Union , Highland Creek 43.7845351 -79.1604971\n",
            "Don MillsSouth 43.7258997 -79.340923\n",
            "Woodbine Heights 43.6953439 -79.3183887\n",
            "St. James Town 43.6514939 -79.3754179\n",
            "Humewood-Cedarvale 43.6937813 -79.4281914\n",
            "Eringate , Bloordale Gardens , Old Burnhamthorpe , Markland Wood 43.6435152 -79.5772008\n",
            "Guildwood , Morningside , West Hill 43.7635726 -79.1887115\n",
            "The Beaches 43.6763574 -79.2930312\n",
            "Berczy Park 43.6447708 -79.3733064\n",
            "Caledonia-Fairbanks 43.6890256 -79.453512\n",
            "Woburn 43.7709921 -79.2169174\n",
            "Leaside 43.7090604 -79.3634517\n",
            "Central Bay Street 43.6579524 -79.3873826\n",
            "Christie 43.669542 -79.4225637\n",
            "Cedarbrae 43.773136 -79.2394761\n",
            "Hillcrest Village 43.8037622 -79.3634517\n",
            "Bathurst Manor , Wilson Heights , Downsview North 43.7543283 -79.4422593\n",
            "Thorncliffe Park 43.7053689 -79.3493719\n",
            "Richmond , Adelaide , King 43.6505712 -79.3845675\n",
            "Dufferin , Dovercourt Village 43.6690051 -79.4422593\n",
            "Scarborough Village 43.7447342 -79.2394761\n",
            "Fairview , Henry Farm , Oriole 43.7785175 -79.3465557\n",
            "Northwood Park , York University 43.7679803 -79.4872619\n",
            "The Danforth East 43.685347 -79.3381065\n",
            "Harbourfront East , Union Station , Toronto Islands 43.6408157 -79.3817523\n",
            "Little Portugal , Trinity 43.6479267 -79.4197497\n",
            "Kennedy Park , Ionview , East Birchmount Park 43.7279292 -79.2620294\n",
            "Bayview Village 43.7869473 -79.385975\n",
            "DownsviewEast  43.7374732 -79.4647633\n",
            "The Danforth West , Riverdale 43.6795571 -79.352188\n",
            "Toronto Dominion Centre , Design Exchange 43.6471768 -79.3815764\n",
            "Brockton , Parkdale Village , Exhibition Place 43.6368472 -79.4281914\n",
            "Golden Mile , Clairlea , Oakridge 43.7111117 -79.2845772\n",
            "York Mills , Silver Hills 43.7574902 -79.3747141\n",
            "DownsviewWest 43.7390146 -79.5069436\n",
            "India Bazaar , The Beaches West 43.6689985 -79.3155716\n",
            "Commerce Court , Victoria Hotel 43.6481985 -79.3798169\n",
            "North Park , Maple Leaf Park , Upwood Park 43.7137562 -79.4900738\n",
            "Humber Summit 43.7563033 -79.5659633\n",
            "Cliffside , Cliffcrest , Scarborough Village West 43.716316 -79.2394761\n",
            "Willowdale , Newtonbrook 43.789053 -79.4084928\n",
            "DownsviewCentral 43.7284964 -79.4956974\n",
            "Studio District 43.6595255 -79.340923\n",
            "Bedford Park , Lawrence Manor East 43.7332825 -79.4197497\n",
            "Del Ray , Mount Dennis , Keelsdale and Silverthorn 43.6911158 -79.4760133\n",
            "Humberlea , Emery 43.7247659 -79.5322424\n",
            "Birch Cliff , Cliffside West 43.692657 -79.2648481\n",
            "WillowdaleSouth 43.7701199 -79.4084928\n",
            "DownsviewNorthwest 43.7616313 -79.5209994\n",
            "Lawrence Park 43.7280205 -79.3887901\n",
            "Roselawn 43.7116948 -79.4169356\n",
            "Runnymede , The Junction North 43.6731853 -79.4872619\n",
            "Weston 43.706876 -79.5181884\n",
            "Dorset Park , Wexford Heights , Scarborough Town Centre 43.7574096 -79.273304\n",
            "York Mills West 43.7527583 -79.4000493\n",
            "Davisville North 43.7127511 -79.3901975\n",
            "Forest Hill North & West 43.6969476 -79.4113072\n",
            "High Park , The Junction South 43.6616083 -79.4647633\n",
            "Westmount 43.696319 -79.5322424\n",
            "Wexford , Maryvale 43.7500715 -79.2958491\n",
            "WillowdaleWest 43.7827364 -79.4422593\n",
            "North Toronto West 43.7153834 -79.4056784\n",
            "The Annex , North Midtown , Yorkville 43.6727097 -79.4056784\n",
            "Parkdale , Roncesvalles 43.6489597 -79.456325\n",
            "Enclave of L4W 43.6369656 -79.615819\n",
            "Kingsview Village , St. Phillips , Martin Grove Gardens , Richview Gardens 43.6889054 -79.5547244\n",
            "Agincourt 43.7942003 -79.2620294\n",
            "Davisville 43.7043244 -79.3887901\n",
            "University of Toronto , Harbord 43.6626956 -79.4000493\n",
            "Runnymede , Swansea 43.6515706 -79.4844499\n",
            "Clarks Corners , Tam O'Shanter , Sullivan 43.7816375 -79.3043021\n",
            "Moore Park , Summerhill East 43.6895743 -79.3831599\n",
            "Kensington Market , Chinatown , Grange Park 43.6532057 -79.4000493\n",
            "Milliken , Agincourt North , Steeles East , L'Amoreaux East 43.8152522 -79.2845772\n",
            "Summerhill West , Rathnelly , South Hill , Forest Hill SE , Deer Park 43.6864123 -79.4000493\n",
            "CN Tower , King and Spadina , Railway Lands , Harbourfront West , Bathurst Quay , South Niagara , Island airport 43.6289467 -79.3944199\n",
            "New Toronto , Mimico South , Humber Bay Shores 43.6056466 -79.5013207\n",
            "South Steeles , Silverstone , Humbergate , Jamestown , Mount Olive , Beaumond Heights , Thistletown , Albion Gardens 43.7394164 -79.5884369\n",
            "Steeles West , L'Amoreaux West 43.7995252 -79.3183887\n",
            "Rosedale 43.6795626 -79.3775294\n",
            "Enclave of M5E 43.6464352 -79.374846\n",
            "Alderwood , Long Branch 43.6024137 -79.5434841\n",
            "Clairville , Humberwood , Woodbine Downs , West Humber , Kipling Heights , Rexdale , Elms , Tandridge , Old Rexdale 43.7067483 -79.5940544\n",
            "Upper Rouge 43.8361247 -79.2056361\n",
            "St. James Town , Cabbagetown 43.667967 -79.3676753\n",
            "First Canadian Place , Underground city 43.6484292 -79.3822802\n",
            "The Kingsway , Montgomery Road , Old Mill North 43.6536536 -79.5069436\n",
            "Church and Wellesley 43.6658599 -79.3831599\n",
            "Enclave of M4L 43.6627439 -79.321558\n",
            "Old Mill South , King's Mill Park , Sunnylea , Humber Bay , Mimico NE , The Queensway East , Royal York South East , Kingsway Park South East 43.6362579 -79.4985091\n",
            "Mimico NW , The Queensway West , South of Bloor , Kingsway Park South West , Royal York South West 43.6288408 -79.5209994\n",
            "Wakefield 40.89470517661 -73.84720052054902\n",
            "Co-op City 40.87429419303012 -73.82993910812398\n",
            "Eastchester 40.887555677350775 -73.82780644716412\n",
            "Fieldston 40.89543742690383 -73.90564259591682\n",
            "Riverdale 40.890834493891305 -73.9125854610857\n",
            "Kingsbridge 40.88168737120521 -73.90281798724604\n",
            "Marble Hill 40.87655077879964 -73.91065965862981\n",
            "Woodlawn 40.89827261213805 -73.86731496814176\n",
            "Norwood 40.87722415599446 -73.8793907395681\n",
            "Williamsbridge 40.88103887819211 -73.85744642974207\n",
            "Baychester 40.866858107252696 -73.83579759808117\n",
            "Pelham Parkway 40.85741349808865 -73.85475564017999\n",
            "City Island 40.84724670491813 -73.78648845267413\n",
            "Bedford Park 40.870185164975325 -73.8855121841913\n",
            "University Heights 40.85572707719664 -73.9104159619131\n",
            "Morris Heights 40.84789792606271 -73.91967159119565\n",
            "Fordham 40.86099679638654 -73.89642655981623\n",
            "East Tremont 40.84269615786053 -73.88735617532338\n",
            "West Farms 40.83947505672653 -73.87774474910545\n",
            "High  Bridge 40.836623010706056 -73.9261020935813\n",
            "Melrose 40.819754370594936 -73.90942160757436\n",
            "Mott Haven 40.80623874935177 -73.91609987487575\n",
            "Port Morris 40.801663627756206 -73.91322139386135\n",
            "Longwood 40.81509904545822 -73.8957882009446\n",
            "Hunts Point 40.80972987938709 -73.88331505955291\n",
            "Morrisania 40.82359198585534 -73.90150648943059\n",
            "Soundview 40.821012197914015 -73.86574609554924\n",
            "Clason Point 40.80655112003589 -73.85414416189266\n",
            "Throgs Neck 40.81510925804005 -73.81635002158441\n",
            "Country Club 40.844245936947374 -73.8240992675385\n",
            "Parkchester 40.837937822267286 -73.85600310535783\n",
            "Westchester Square 40.8406194964327 -73.84219407604444\n",
            "Van Nest 40.84360847124718 -73.8662991807561\n",
            "Morris Park 40.847549063536334 -73.85040178030421\n",
            "Belmont 40.85727710073895 -73.88845196134804\n",
            "Spuyten Duyvil 40.88139497727086 -73.91719048210393\n",
            "North Riverdale 40.90854282950666 -73.90453054908927\n",
            "Pelham Bay 40.85064140940335 -73.8320737824047\n",
            "Schuylerville 40.82657951686922 -73.82620275994073\n",
            "Edgewater Park 40.821986118163494 -73.81388514428619\n",
            "Castle Hill 40.819014376988314 -73.84802729582735\n",
            "Olinville 40.87137078192371 -73.86332361652777\n",
            "Pelham Gardens 40.86296562477998 -73.84161194831223\n",
            "Concourse 40.83428380733851 -73.91558941773444\n",
            "Unionport 40.82977429787161 -73.85053524451935\n",
            "Edenwald 40.88456130303732 -73.84808271877168\n",
            "Bay Ridge 40.625801065010656 -74.03062069353813\n",
            "Bensonhurst 40.61100890202044 -73.99517998380729\n",
            "Sunset Park 40.64510294925429 -74.01031618527784\n",
            "Greenpoint 40.7302009848647 -73.95424093127393\n",
            "Gravesend 40.59526001306593 -73.97347087708445\n",
            "Brighton Beach 40.57682506566604 -73.96509448785336\n",
            "Sheepshead Bay 40.58689012678384 -73.94318640482979\n",
            "Manhattan Terrace 40.61443251335098 -73.95743840559939\n",
            "Flatbush 40.63632589026677 -73.95840106533903\n",
            "Crown Heights 40.67082917695294 -73.94329119073582\n",
            "East Flatbush 40.64171776668961 -73.93610256185836\n",
            "Kensington 40.642381958003526 -73.98042110559474\n",
            "Windsor Terrace 40.65694583575104 -73.98007340430172\n",
            "Prospect Heights 40.676822262254724 -73.9648592426269\n",
            "Brownsville 40.66394994339755 -73.91023536176607\n",
            "Williamsburg 40.70714439344251 -73.95811529220927\n",
            "Bushwick 40.69811611017901 -73.92525797487045\n",
            "Bedford Stuyvesant 40.687231607720456 -73.94178488690297\n",
            "Brooklyn Heights 40.695863722724084 -73.99378225496424\n",
            "Cobble Hill 40.687919722485574 -73.99856139218463\n",
            "Carroll Gardens 40.680540231076485 -73.99465372828006\n",
            "Red Hook 40.676253230250886 -74.0127589747356\n",
            "Gowanus 40.673931143187154 -73.99444087145339\n",
            "Fort Greene 40.68852726018977 -73.97290574369092\n",
            "Park Slope 40.67232052268197 -73.97705030183924\n",
            "Cypress Hills 40.68239101144211 -73.87661596457296\n",
            "East New York 40.669925700847045 -73.88069863917366\n",
            "Starrett City 40.64758905230874 -73.87936970045875\n",
            "Canarsie 40.63556432797428 -73.90209269778966\n",
            "Flatlands 40.630446043757466 -73.92911302644674\n",
            "Mill Island 40.606336421685626 -73.90818571777423\n",
            "Manhattan Beach 40.57791350308657 -73.94353722891886\n",
            "Coney Island 40.57429256471601 -73.98868295821637\n",
            "Bath Beach 40.59951870282238 -73.99875221443519\n",
            "Borough Park 40.633130512758015 -73.99049823044811\n",
            "Dyker Heights 40.619219457722636 -74.01931375636022\n",
            "Gerritsen Beach 40.590848433902046 -73.93010170691196\n",
            "Marine Park 40.609747779894604 -73.93134404108497\n",
            "Clinton Hill 40.693229421881504 -73.96784306216367\n",
            "Sea Gate 40.57637537890224 -74.0078731120024\n",
            "Downtown 40.69084402109802 -73.98346337431099\n",
            "Boerum Hill 40.685682912091444 -73.98374824115798\n",
            "Prospect Lefferts Gardens 40.658420017469815 -73.95489867077713\n",
            "Ocean Hill 40.678402554795355 -73.91306831787395\n",
            "City Line 40.67856995727479 -73.86797598081334\n",
            "Bergen Beach 40.61514955045308 -73.89855633630317\n",
            "Midwood 40.62559589869843 -73.95759523489838\n",
            "Prospect Park South 40.647008603185185 -73.96261316716048\n",
            "Georgetown 40.62384524478419 -73.91607483951324\n",
            "East Williamsburg 40.70849241041548 -73.93885815269195\n",
            "North Side 40.714822906532014 -73.95880857587582\n",
            "South Side 40.71086147265064 -73.95800095153331\n",
            "Ocean Parkway 40.61305976667942 -73.96836678035541\n",
            "Fort Hamilton 40.61476812694226 -74.03197914537984\n",
            "Chinatown 40.71561842231432 -73.99427936255978\n",
            "Washington Heights 40.85190252555305 -73.93690027985234\n",
            "Inwood 40.86768396449915 -73.92121042203897\n",
            "Hamilton Heights 40.823604284811935 -73.94968791883366\n",
            "Manhattanville 40.8169344294978 -73.9573853935188\n",
            "Central Harlem 40.81597606742414 -73.94321112603905\n",
            "East Harlem 40.79224946663033 -73.94418223148524\n",
            "Upper East Side 40.775638573301805 -73.96050763135\n",
            "Yorkville 40.775929849884875 -73.94711784471826\n",
            "Lenox Hill 40.76811265828733 -73.9588596881376\n",
            "Roosevelt Island 40.76215960576283 -73.94916769227953\n",
            "Upper West Side 40.787657998534854 -73.97705923630603\n",
            "Lincoln Square 40.77352888942166 -73.98533777001262\n",
            "Clinton 40.75910089146212 -73.99611936309479\n",
            "Midtown 40.75469110270623 -73.98166882730304\n",
            "Murray Hill 40.748303077252174 -73.97833207924127\n",
            "Chelsea 40.744034706747975 -74.00311633472813\n",
            "Greenwich Village 40.72693288536128 -73.99991402945902\n",
            "East Village 40.727846777270244 -73.98222616506416\n",
            "Lower East Side 40.71780674892765 -73.98089031999291\n",
            "Tribeca 40.721521967443216 -74.01068328559087\n",
            "Little Italy 40.71932379395907 -73.99730467208073\n",
            "Soho 40.72218384131794 -74.00065666959759\n",
            "West Village 40.73443393572434 -74.00617998126812\n",
            "Manhattan Valley 40.797307041702865 -73.96428617740655\n",
            "Morningside Heights 40.807999738165826 -73.96389627905332\n",
            "Gramercy 40.737209832715 -73.98137594833541\n",
            "Battery Park City 40.71193198394565 -74.01686930508617\n",
            "Financial District 40.70710710727048 -74.0106654452127\n",
            "Astoria 40.76850859335492 -73.91565374304234\n",
            "Woodside 40.74634908860222 -73.90184166838284\n",
            "Jackson Heights 40.75198138007367 -73.88282109164365\n",
            "Elmhurst 40.744048505122024 -73.88165622288388\n",
            "Howard Beach 40.65422527738487 -73.8381376460028\n",
            "Corona 40.74238175015667 -73.85682497345258\n",
            "Forest Hills 40.72526378216503 -73.84447500788983\n",
            "Kew Gardens 40.7051790354148 -73.82981905825703\n",
            "Richmond Hill 40.69794731471763 -73.83183321446887\n",
            "Flushing 40.76445419697846 -73.83177300329582\n",
            "Long Island City 40.75021734610528 -73.93920223915505\n",
            "Sunnyside 40.74017628351924 -73.92691617561577\n",
            "East Elmhurst 40.76407323883091 -73.86704147658772\n",
            "Maspeth 40.725427374093606 -73.89621713626859\n",
            "Ridgewood 40.70832315613858 -73.90143517559589\n",
            "Glendale 40.70276242967838 -73.87074167435605\n",
            "Rego Park 40.72897409480735 -73.8578268690537\n",
            "Woodhaven 40.68988687915789 -73.8581104655432\n",
            "Ozone Park 40.680708468265415 -73.84320266173447\n",
            "South Ozone Park 40.66854957767195 -73.80986478649041\n",
            "College Point 40.784902749260205 -73.84304528896125\n",
            "Whitestone 40.78129076602694 -73.81420216610863\n",
            "Bayside 40.76604063281064 -73.7742736306867\n",
            "Auburndale 40.76172954903262 -73.79176243728061\n",
            "Little Neck 40.7708261928267 -73.7388977558074\n",
            "Douglaston 40.76684609790763 -73.7424982072733\n",
            "Glen Oaks 40.74944079974332 -73.71548118999145\n",
            "Bellerose 40.72857318176675 -73.72012814826903\n",
            "Kew Gardens Hills 40.722578244228046 -73.82087764933566\n",
            "Fresh Meadows 40.7343944653313 -73.78271337003264\n",
            "Briarwood 40.71093547252271 -73.81174822458634\n",
            "Jamaica Center 40.70465736068717 -73.79690165888289\n",
            "Oakland Gardens 40.74561857141855 -73.75494976234332\n",
            "Queens Village 40.718893092167356 -73.73871484578424\n",
            "Hollis 40.71124344191904 -73.75925009335594\n",
            "South Jamaica 40.696911253789885 -73.7904261313554\n",
            "St. Albans 40.69444538522359 -73.75867603727717\n",
            "Rochdale 40.67521139591733 -73.77258787620906\n",
            "Springfield Gardens 40.666230490368584 -73.76042092682287\n",
            "Cambria Heights 40.692774639160845 -73.73526873708026\n",
            "Rosedale 40.659816433428084 -73.73526079428278\n",
            "Far Rockaway 40.603134432500894 -73.75497968043872\n",
            "Broad Channel 40.60302658351238 -73.8200548911032\n",
            "Breezy Point 40.55740128845452 -73.92551196994168\n",
            "Steinway 40.775923015642896 -73.90228960391673\n",
            "Beechhurst 40.79278140360048 -73.80436451720988\n",
            "Bay Terrace 40.782842806245554 -73.7768022262158\n",
            "Edgemere 40.595641807368494 -73.77613282391705\n",
            "Arverne 40.58914394372971 -73.79199233136943\n",
            "Rockaway Beach 40.582801696845586 -73.82236121088751\n",
            "Neponsit 40.572036730217015 -73.85754672410827\n",
            "Murray Hill 40.764126122614066 -73.81276269135866\n",
            "Floral Park 40.741378421945434 -73.70884705889246\n",
            "Holliswood 40.7209572076444 -73.76714166714729\n",
            "Jamaica Estates 40.71680483014613 -73.7872269693666\n",
            "Queensboro Hill 40.7445723092867 -73.82580915110559\n",
            "Hillcrest 40.723824901829204 -73.79760300912672\n",
            "Ravenswood 40.761704526054146 -73.93157506072878\n",
            "Lindenwood 40.66391841925139 -73.84963782402441\n",
            "Laurelton 40.66788389660247 -73.74025607989822\n",
            "Lefrak City 40.736074570830795 -73.8625247141374\n",
            "Belle Harbor 40.57615556543109 -73.8540175039252\n",
            "Rockaway Park 40.58034295646131 -73.84153370226186\n",
            "Somerville 40.59771061565768 -73.79664750844047\n",
            "Brookville 40.66000322733613 -73.75175310731153\n",
            "Bellaire 40.73301404027834 -73.73889198912481\n",
            "North Corona 40.7540709990489 -73.85751790676447\n",
            "Forest Hills Gardens 40.7146110815117 -73.8410221123401\n",
            "St. George 40.6449815710044 -74.07935312512797\n",
            "New Brighton 40.64061455913511 -74.08701650516625\n",
            "Stapleton 40.62692762538176 -74.07790192660066\n",
            "Rosebank 40.61530494652761 -74.06980526716141\n",
            "West Brighton 40.63187892654607 -74.1071817826561\n",
            "Grymes Hill 40.624184791313006 -74.08724819983729\n",
            "Todt Hill 40.59706851814673 -74.1113288180088\n",
            "South Beach 40.58024741350956 -74.0795529253982\n",
            "Port Richmond 40.63366930554365 -74.12943426797008\n",
            "Mariner's Harbor 40.632546390481124 -74.15008537046981\n",
            "Port Ivory 40.63968297845542 -74.17464532993542\n",
            "Castleton Corners 40.61333593766742 -74.11918058534842\n",
            "New Springville 40.594252379161695 -74.16496031329827\n",
            "Travis 40.58631375103281 -74.19073717538116\n",
            "New Dorp 40.57257231820632 -74.1164794360638\n",
            "Oakwood 40.5584622432888 -74.12156593771896\n",
            "Great Kills 40.549480228713605 -74.14932381490992\n",
            "Eltingville 40.542230747450745 -74.1643308041936\n",
            "Annadale 40.53811417474507 -74.17854866165878\n",
            "Woodrow 40.541967622888755 -74.20524582480326\n",
            "Tottenville 40.50533376115642 -74.24656934235283\n",
            "Tompkinsville 40.637316067110326 -74.08055351790115\n",
            "Silver Lake 40.61919310792676 -74.09629029235458\n",
            "Sunnyside 40.61276015756489 -74.0971255217853\n",
            "Ditmas Park 40.643675183340974 -73.96101312466779\n",
            "Wingate 40.66094656188111 -73.93718680559314\n",
            "Rugby 40.655572313280764 -73.92688212616955\n",
            "Park Hill 40.60919044434558 -74.08015734936296\n",
            "Westerleigh 40.62109047275409 -74.13304143951704\n",
            "Graniteville 40.620171512231884 -74.15315246387762\n",
            "Arlington 40.63532509911492 -74.16510420241124\n",
            "Arrochar 40.596312571276734 -74.06712363225574\n",
            "Grasmere 40.59826835959991 -74.0766743627905\n",
            "Old Town 40.59632891379513 -74.08751118005578\n",
            "Dongan Hills 40.588672948199275 -74.09639905312521\n",
            "Midland Beach 40.57352690574283 -74.09348266303591\n",
            "Grant City 40.57621558711788 -74.10585598545434\n",
            "New Dorp Beach 40.56425549307335 -74.10432707469124\n",
            "Bay Terrace 40.55398800858462 -74.13916622175768\n",
            "Huguenot 40.531911920489605 -74.19174105747814\n",
            "Pleasant Plains 40.524699376118136 -74.21983106616777\n",
            "Butler Manor 40.50608165346305 -74.22950350260027\n",
            "Charleston 40.53053148283314 -74.23215775896526\n",
            "Rossville 40.54940400650072 -74.21572851113952\n",
            "Arden Heights 40.54928582278321 -74.18588674583893\n",
            "Greenridge 40.555295236173194 -74.17079414786092\n",
            "Heartland Village 40.58913894875281 -74.15902208156601\n",
            "Chelsea 40.59472602746295 -74.1895604551969\n",
            "Bloomfield 40.60577868452358 -74.18725638381567\n",
            "Bulls Head 40.6095918004203 -74.15940948657122\n",
            "Carnegie Hill 40.7826825671257 -73.95325646837112\n",
            "Noho 40.72325901885768 -73.98843368023597\n",
            "Civic Center 40.71522892046282 -74.00541529873355\n",
            "Midtown South 40.7485096643122 -73.98871313285247\n",
            "Richmond Town 40.56960594275505 -74.1340572986257\n",
            "Shore Acres 40.60971934079284 -74.06667766061771\n",
            "Clifton 40.61917845202843 -74.072642445484\n",
            "Concord 40.6044731896879 -74.08402364740358\n",
            "Emerson Hill 40.606794394801 -74.09776206972522\n",
            "Randall Manor 40.63563000681151 -74.09805062373887\n",
            "Howland Hook 40.63843283794795 -74.18622331749823\n",
            "Elm Park 40.630146741193826 -74.1418167896889\n",
            "Remsen Village 40.652117451793494 -73.91665331978048\n",
            "New Lots 40.6627442796966 -73.88511776379292\n",
            "Paerdegat Basin 40.63131755039667 -73.90233474295836\n",
            "Mill Basin 40.61597423962336 -73.91515391550404\n",
            "Jamaica Hills 40.71145964370482 -73.79646462081593\n",
            "Utopia 40.73350025429757 -73.79671678028349\n",
            "Pomonok 40.73493618075478 -73.80486120040537\n",
            "Astoria Heights 40.7703173929982 -73.89467996270574\n",
            "Claremont Village 40.83142834161548 -73.90119903387667\n",
            "Concourse Village 40.824780490842905 -73.91584652759009\n",
            "Mount Eden 40.84382617671654 -73.91655551964419\n",
            "Mount Hope 40.84884160724665 -73.90829930881988\n",
            "Sutton Place 40.76028033131374 -73.96355614094303\n",
            "Hunters Point 40.743414090073536 -73.95386782130745\n",
            "Turtle Bay 40.75204236950722 -73.96770824581834\n",
            "Tudor City 40.746917410740195 -73.97121928722265\n",
            "Stuyvesant Town 40.73099955477061 -73.97405170469203\n",
            "Flatiron 40.739673047638426 -73.9909471052826\n",
            "Sunnyside Gardens 40.74565180608076 -73.91819286431682\n",
            "Blissville 40.73725071694497 -73.93244235260178\n",
            "Fulton Ferry 40.70328109093014 -73.99550751888415\n",
            "Vinegar Hill 40.70332149882874 -73.98111603592393\n",
            "Weeksville 40.67503986503237 -73.93053108817338\n",
            "Broadway Junction 40.67786104769531 -73.90331684852599\n",
            "Dumbo 40.70317632822692 -73.9887528074504\n",
            "Manor Heights 40.60180957631444 -74.12059399718001\n",
            "Willowbrook 40.60370692627371 -74.13208447484298\n",
            "Sandy Ground 40.541139922091766 -74.21776636068567\n",
            "Egbertville 40.579118742961214 -74.12727240604946\n",
            "Roxbury 40.56737588957032 -73.89213760232822\n",
            "Homecrest 40.598525095137255 -73.95918459428702\n",
            "Middle Village 40.716414511158185 -73.88114319200604\n",
            "Prince's Bay 40.52626406734812 -74.20152556457658\n",
            "Lighthouse Hill 40.57650629379489 -74.13792663771568\n",
            "Richmond Valley 40.51954145748909 -74.22957080626941\n",
            "Malba 40.79060155670148 -73.82667757138641\n",
            "Highland Park 40.6819989345173 -73.890345709872\n",
            "Madison 40.60937770113766 -73.94841515328893\n",
            "Bronxdale 40.85272297633017 -73.86172577555115\n",
            "Allerton 40.86578787802982 -73.85931863221647\n",
            "Kingsbridge Heights 40.8703923914147 -73.90152264513144\n",
            "Erasmus 40.64692606658579 -73.94817709920184\n",
            "Hudson Yards 40.75665808227519 -74.00011136202637\n",
            "Hammels 40.58733774018741 -73.80553002968718\n",
            "Bayswater 40.611321691283834 -73.76596781445627\n",
            "Queensbridge 40.756091297094706 -73.94563070334091\n",
            "Fox Hills 40.61731079252983 -74.08173992211962\n"
          ]
        }
      ]
    },
    {
      "cell_type": "markdown",
      "source": [
        "Hemos obtenido los distintos sitios en los vecindarios de Toronto y de Nueva York y tenemos los datos de ubicación. \n",
        "\n",
        "Visualizamos las primeras filas de la tabla:"
      ],
      "metadata": {
        "id": "vTt3Qli-q9dB"
      }
    },
    {
      "cell_type": "code",
      "source": [
        "To_NY_venues.head()"
      ],
      "metadata": {
        "colab": {
          "base_uri": "https://localhost:8080/",
          "height": 302
        },
        "id": "3qJ9CMKkdnOz",
        "outputId": "cd827de9-50b5-4fcc-e01a-098d22df1483"
      },
      "execution_count": null,
      "outputs": [
        {
          "output_type": "execute_result",
          "data": {
            "text/plain": [
              "  Neighborhood  Neighborhood Latitude  Neighborhood Longitude  \\\n",
              "0    Parkwoods              43.753259              -79.329656   \n",
              "1    Parkwoods              43.753259              -79.329656   \n",
              "2    Parkwoods              43.753259              -79.329656   \n",
              "3    Parkwoods              43.753259              -79.329656   \n",
              "4    Parkwoods              43.753259              -79.329656   \n",
              "\n",
              "                   Venue  Venue Latitude  Venue Longitude  \\\n",
              "0        Brookbanks Park       43.754751       -79.328439   \n",
              "1          Variety Store       43.751978       -79.333389   \n",
              "2        Money in Motion       43.752947       -79.332418   \n",
              "3  Toronto Custom Lights       43.752947       -79.332418   \n",
              "4  Pneutrans Systems Ltd       43.754856       -79.327753   \n",
              "\n",
              "                       Venue Category  \n",
              "0                                Park  \n",
              "1            Food and Beverage Retail  \n",
              "2                   Financial Service  \n",
              "3  Business and Professional Services  \n",
              "4  Business and Professional Services  "
            ],
            "text/html": [
              "\n",
              "  <div id=\"df-9561effb-fc1c-4a59-9cc6-94b8ae782889\">\n",
              "    <div class=\"colab-df-container\">\n",
              "      <div>\n",
              "<style scoped>\n",
              "    .dataframe tbody tr th:only-of-type {\n",
              "        vertical-align: middle;\n",
              "    }\n",
              "\n",
              "    .dataframe tbody tr th {\n",
              "        vertical-align: top;\n",
              "    }\n",
              "\n",
              "    .dataframe thead th {\n",
              "        text-align: right;\n",
              "    }\n",
              "</style>\n",
              "<table border=\"1\" class=\"dataframe\">\n",
              "  <thead>\n",
              "    <tr style=\"text-align: right;\">\n",
              "      <th></th>\n",
              "      <th>Neighborhood</th>\n",
              "      <th>Neighborhood Latitude</th>\n",
              "      <th>Neighborhood Longitude</th>\n",
              "      <th>Venue</th>\n",
              "      <th>Venue Latitude</th>\n",
              "      <th>Venue Longitude</th>\n",
              "      <th>Venue Category</th>\n",
              "    </tr>\n",
              "  </thead>\n",
              "  <tbody>\n",
              "    <tr>\n",
              "      <th>0</th>\n",
              "      <td>Parkwoods</td>\n",
              "      <td>43.753259</td>\n",
              "      <td>-79.329656</td>\n",
              "      <td>Brookbanks Park</td>\n",
              "      <td>43.754751</td>\n",
              "      <td>-79.328439</td>\n",
              "      <td>Park</td>\n",
              "    </tr>\n",
              "    <tr>\n",
              "      <th>1</th>\n",
              "      <td>Parkwoods</td>\n",
              "      <td>43.753259</td>\n",
              "      <td>-79.329656</td>\n",
              "      <td>Variety Store</td>\n",
              "      <td>43.751978</td>\n",
              "      <td>-79.333389</td>\n",
              "      <td>Food and Beverage Retail</td>\n",
              "    </tr>\n",
              "    <tr>\n",
              "      <th>2</th>\n",
              "      <td>Parkwoods</td>\n",
              "      <td>43.753259</td>\n",
              "      <td>-79.329656</td>\n",
              "      <td>Money in Motion</td>\n",
              "      <td>43.752947</td>\n",
              "      <td>-79.332418</td>\n",
              "      <td>Financial Service</td>\n",
              "    </tr>\n",
              "    <tr>\n",
              "      <th>3</th>\n",
              "      <td>Parkwoods</td>\n",
              "      <td>43.753259</td>\n",
              "      <td>-79.329656</td>\n",
              "      <td>Toronto Custom Lights</td>\n",
              "      <td>43.752947</td>\n",
              "      <td>-79.332418</td>\n",
              "      <td>Business and Professional Services</td>\n",
              "    </tr>\n",
              "    <tr>\n",
              "      <th>4</th>\n",
              "      <td>Parkwoods</td>\n",
              "      <td>43.753259</td>\n",
              "      <td>-79.329656</td>\n",
              "      <td>Pneutrans Systems Ltd</td>\n",
              "      <td>43.754856</td>\n",
              "      <td>-79.327753</td>\n",
              "      <td>Business and Professional Services</td>\n",
              "    </tr>\n",
              "  </tbody>\n",
              "</table>\n",
              "</div>\n",
              "      <button class=\"colab-df-convert\" onclick=\"convertToInteractive('df-9561effb-fc1c-4a59-9cc6-94b8ae782889')\"\n",
              "              title=\"Convert this dataframe to an interactive table.\"\n",
              "              style=\"display:none;\">\n",
              "        \n",
              "  <svg xmlns=\"http://www.w3.org/2000/svg\" height=\"24px\"viewBox=\"0 0 24 24\"\n",
              "       width=\"24px\">\n",
              "    <path d=\"M0 0h24v24H0V0z\" fill=\"none\"/>\n",
              "    <path d=\"M18.56 5.44l.94 2.06.94-2.06 2.06-.94-2.06-.94-.94-2.06-.94 2.06-2.06.94zm-11 1L8.5 8.5l.94-2.06 2.06-.94-2.06-.94L8.5 2.5l-.94 2.06-2.06.94zm10 10l.94 2.06.94-2.06 2.06-.94-2.06-.94-.94-2.06-.94 2.06-2.06.94z\"/><path d=\"M17.41 7.96l-1.37-1.37c-.4-.4-.92-.59-1.43-.59-.52 0-1.04.2-1.43.59L10.3 9.45l-7.72 7.72c-.78.78-.78 2.05 0 2.83L4 21.41c.39.39.9.59 1.41.59.51 0 1.02-.2 1.41-.59l7.78-7.78 2.81-2.81c.8-.78.8-2.07 0-2.86zM5.41 20L4 18.59l7.72-7.72 1.47 1.35L5.41 20z\"/>\n",
              "  </svg>\n",
              "      </button>\n",
              "      \n",
              "  <style>\n",
              "    .colab-df-container {\n",
              "      display:flex;\n",
              "      flex-wrap:wrap;\n",
              "      gap: 12px;\n",
              "    }\n",
              "\n",
              "    .colab-df-convert {\n",
              "      background-color: #E8F0FE;\n",
              "      border: none;\n",
              "      border-radius: 50%;\n",
              "      cursor: pointer;\n",
              "      display: none;\n",
              "      fill: #1967D2;\n",
              "      height: 32px;\n",
              "      padding: 0 0 0 0;\n",
              "      width: 32px;\n",
              "    }\n",
              "\n",
              "    .colab-df-convert:hover {\n",
              "      background-color: #E2EBFA;\n",
              "      box-shadow: 0px 1px 2px rgba(60, 64, 67, 0.3), 0px 1px 3px 1px rgba(60, 64, 67, 0.15);\n",
              "      fill: #174EA6;\n",
              "    }\n",
              "\n",
              "    [theme=dark] .colab-df-convert {\n",
              "      background-color: #3B4455;\n",
              "      fill: #D2E3FC;\n",
              "    }\n",
              "\n",
              "    [theme=dark] .colab-df-convert:hover {\n",
              "      background-color: #434B5C;\n",
              "      box-shadow: 0px 1px 3px 1px rgba(0, 0, 0, 0.15);\n",
              "      filter: drop-shadow(0px 1px 2px rgba(0, 0, 0, 0.3));\n",
              "      fill: #FFFFFF;\n",
              "    }\n",
              "  </style>\n",
              "\n",
              "      <script>\n",
              "        const buttonEl =\n",
              "          document.querySelector('#df-9561effb-fc1c-4a59-9cc6-94b8ae782889 button.colab-df-convert');\n",
              "        buttonEl.style.display =\n",
              "          google.colab.kernel.accessAllowed ? 'block' : 'none';\n",
              "\n",
              "        async function convertToInteractive(key) {\n",
              "          const element = document.querySelector('#df-9561effb-fc1c-4a59-9cc6-94b8ae782889');\n",
              "          const dataTable =\n",
              "            await google.colab.kernel.invokeFunction('convertToInteractive',\n",
              "                                                     [key], {});\n",
              "          if (!dataTable) return;\n",
              "\n",
              "          const docLinkHtml = 'Like what you see? Visit the ' +\n",
              "            '<a target=\"_blank\" href=https://colab.research.google.com/notebooks/data_table.ipynb>data table notebook</a>'\n",
              "            + ' to learn more about interactive tables.';\n",
              "          element.innerHTML = '';\n",
              "          dataTable['output_type'] = 'display_data';\n",
              "          await google.colab.output.renderOutput(dataTable, element);\n",
              "          const docLink = document.createElement('div');\n",
              "          docLink.innerHTML = docLinkHtml;\n",
              "          element.appendChild(docLink);\n",
              "        }\n",
              "      </script>\n",
              "    </div>\n",
              "  </div>\n",
              "  "
            ]
          },
          "metadata": {},
          "execution_count": 37
        }
      ]
    },
    {
      "cell_type": "code",
      "source": [
        "To_NY_venues.shape"
      ],
      "metadata": {
        "colab": {
          "base_uri": "https://localhost:8080/"
        },
        "id": "1GpssATaqrGi",
        "outputId": "94867910-d9e7-489e-a0de-093b74d3a654"
      },
      "execution_count": null,
      "outputs": [
        {
          "output_type": "execute_result",
          "data": {
            "text/plain": [
              "(17788, 7)"
            ]
          },
          "metadata": {},
          "execution_count": 38
        }
      ]
    },
    {
      "cell_type": "markdown",
      "source": [
        "####Primer ejemplo de aplicación: Una descripción general de las categorías de sitios más comunes en los vecindarios <a name=\"Ejemplo1\"></a>"
      ],
      "metadata": {
        "id": "bwhgGSai9ty2"
      }
    },
    {
      "cell_type": "code",
      "source": [
        "#Revisamos cuantos sitios se regresarón para cada barrio\n",
        "Sitios_count = To_NY_venues.groupby('Neighborhood').count()\n",
        "Sitios_count = Sitios_count.sort_values('Venue',ascending=False)\n",
        "Sitios_count.reset_index(inplace=True)"
      ],
      "metadata": {
        "id": "9hky7ASEl6gU"
      },
      "execution_count": null,
      "outputs": []
    },
    {
      "cell_type": "code",
      "source": [
        "#Analizamos cada barrio\n",
        "# codificación\n",
        "To_NY_onehot = pd.get_dummies(To_NY_venues[['Venue Category']], prefix=\"\", prefix_sep=\"\")\n",
        "\n",
        "# añadir la columna de barrio de regreso al dataframe\n",
        "To_NY_onehot['Neighborhood'] = To_NY_venues['Neighborhood'] \n",
        "\n",
        "# mover la columna de barrio a la primer columna\n",
        "fixed_columns = [To_NY_onehot.columns[-1]] + list(To_NY_onehot.columns[:-1])\n",
        "To_NY_onehot = To_NY_onehot[fixed_columns]"
      ],
      "metadata": {
        "id": "lP3vUL8HmD-q"
      },
      "execution_count": null,
      "outputs": []
    },
    {
      "cell_type": "code",
      "source": [
        "#Agrupamos las filas por barrios tomando la média de la frecuancia de la ocurrencia de cada categoría\n",
        "To_NY_grouped = To_NY_onehot.groupby('Neighborhood').mean().reset_index()"
      ],
      "metadata": {
        "id": "5lQixmCYoaL0"
      },
      "execution_count": null,
      "outputs": []
    },
    {
      "cell_type": "code",
      "source": [
        "#Función para ordenar los sitios en orden descendente\n",
        "def return_most_common_venues(row, num_top_venues):\n",
        "    row_categories = row.iloc[1:]\n",
        "    row_categories_sorted = row_categories.sort_values(ascending=False)\n",
        "    \n",
        "    return row_categories_sorted.index.values[0:num_top_venues]"
      ],
      "metadata": {
        "id": "lhX1_B_zof95"
      },
      "execution_count": null,
      "outputs": []
    },
    {
      "cell_type": "code",
      "source": [
        "#Importamos librería numpy\n",
        "import numpy as np"
      ],
      "metadata": {
        "id": "wroPrZyqoifs"
      },
      "execution_count": null,
      "outputs": []
    },
    {
      "cell_type": "code",
      "source": [
        "#Generemos el nuevo dataframe y mostremos los primeros 10 sitios de cada barrio\n",
        "num_top_venues = 10\n",
        "\n",
        "indicators = ['st', 'nd', 'rd']\n",
        "\n",
        "# crear las columnas acorde al numero de sitios populares\n",
        "columns = ['Neighborhood']\n",
        "for ind in np.arange(num_top_venues):\n",
        "    try:\n",
        "        columns.append('{}{} Most Common Venue'.format(ind+1, indicators[ind]))\n",
        "    except:\n",
        "        columns.append('{}th Most Common Venue'.format(ind+1))\n",
        "\n",
        "# crear un nuevo dataframe\n",
        "neighborhoods_venues_sorted = pd.DataFrame(columns=columns)\n",
        "neighborhoods_venues_sorted['Neighborhood'] = To_NY_grouped['Neighborhood']\n",
        "\n",
        "for ind in np.arange(To_NY_grouped.shape[0]):\n",
        "    neighborhoods_venues_sorted.iloc[ind, 1:] = return_most_common_venues(To_NY_grouped.iloc[ind, :], num_top_venues)\n",
        "\n",
        "neighborhoods_venues_sorted.head()"
      ],
      "metadata": {
        "colab": {
          "base_uri": "https://localhost:8080/",
          "height": 511
        },
        "id": "kML_iJRTosUq",
        "outputId": "9445847a-ecef-4a4e-af9f-74f0c091fba5"
      },
      "execution_count": null,
      "outputs": [
        {
          "output_type": "execute_result",
          "data": {
            "text/plain": [
              "              Neighborhood               1st Most Common Venue  \\\n",
              "0                Agincourt                      Clothing Store   \n",
              "1  Alderwood , Long Branch  Business and Professional Services   \n",
              "2                 Allerton                  General Contractor   \n",
              "3                 Annadale               Attorney / Law Office   \n",
              "4            Arden Heights                  General Contractor   \n",
              "\n",
              "                2nd Most Common Venue 3rd Most Common Venue  \\\n",
              "0                  General Contractor               Painter   \n",
              "1                             Plumber   Used Car Dealership   \n",
              "2                  Real Estate Agency              Pizzeria   \n",
              "3                            Pizzeria            Hair Salon   \n",
              "4  Business and Professional Services                 Mover   \n",
              "\n",
              "                               4th Most Common Venue  \\\n",
              "0                                         Restaurant   \n",
              "1                                     Clothing Store   \n",
              "2                                          Drugstore   \n",
              "3                 Accounting and Bookkeeping Service   \n",
              "4  Heating, Ventilating and Air Conditioning Cont...   \n",
              "\n",
              "      5th Most Common Venue   6th Most Common Venue  \\\n",
              "0  Home Improvement Service      Real Estate Agency   \n",
              "1  Home Improvement Service                    Bank   \n",
              "2                       Spa  Automotive Repair Shop   \n",
              "3       Audiovisual Service                   Diner   \n",
              "4       Audiovisual Service      Real Estate Agency   \n",
              "\n",
              "         7th Most Common Venue               8th Most Common Venue  \\\n",
              "0        Sporting Goods Retail  Business and Professional Services   \n",
              "1       Automotive Repair Shop                        Burger Joint   \n",
              "2  Grocery Store / Supermarket                  Chinese Restaurant   \n",
              "3                 Cocktail Bar                          Bagel Shop   \n",
              "4          Real Estate Service                          Playground   \n",
              "\n",
              "            9th Most Common Venue     10th Most Common Venue  \n",
              "0                    Construction                 Hair Salon  \n",
              "1       Fruit and Vegetable Store               Dance Studio  \n",
              "2             American Restaurant  Health and Beauty Service  \n",
              "3              General Contractor                       Deli  \n",
              "4  Carpet and Flooring Contractor               Nutritionist  "
            ],
            "text/html": [
              "\n",
              "  <div id=\"df-34edf60f-0ec7-4e71-af53-232056910f74\">\n",
              "    <div class=\"colab-df-container\">\n",
              "      <div>\n",
              "<style scoped>\n",
              "    .dataframe tbody tr th:only-of-type {\n",
              "        vertical-align: middle;\n",
              "    }\n",
              "\n",
              "    .dataframe tbody tr th {\n",
              "        vertical-align: top;\n",
              "    }\n",
              "\n",
              "    .dataframe thead th {\n",
              "        text-align: right;\n",
              "    }\n",
              "</style>\n",
              "<table border=\"1\" class=\"dataframe\">\n",
              "  <thead>\n",
              "    <tr style=\"text-align: right;\">\n",
              "      <th></th>\n",
              "      <th>Neighborhood</th>\n",
              "      <th>1st Most Common Venue</th>\n",
              "      <th>2nd Most Common Venue</th>\n",
              "      <th>3rd Most Common Venue</th>\n",
              "      <th>4th Most Common Venue</th>\n",
              "      <th>5th Most Common Venue</th>\n",
              "      <th>6th Most Common Venue</th>\n",
              "      <th>7th Most Common Venue</th>\n",
              "      <th>8th Most Common Venue</th>\n",
              "      <th>9th Most Common Venue</th>\n",
              "      <th>10th Most Common Venue</th>\n",
              "    </tr>\n",
              "  </thead>\n",
              "  <tbody>\n",
              "    <tr>\n",
              "      <th>0</th>\n",
              "      <td>Agincourt</td>\n",
              "      <td>Clothing Store</td>\n",
              "      <td>General Contractor</td>\n",
              "      <td>Painter</td>\n",
              "      <td>Restaurant</td>\n",
              "      <td>Home Improvement Service</td>\n",
              "      <td>Real Estate Agency</td>\n",
              "      <td>Sporting Goods Retail</td>\n",
              "      <td>Business and Professional Services</td>\n",
              "      <td>Construction</td>\n",
              "      <td>Hair Salon</td>\n",
              "    </tr>\n",
              "    <tr>\n",
              "      <th>1</th>\n",
              "      <td>Alderwood , Long Branch</td>\n",
              "      <td>Business and Professional Services</td>\n",
              "      <td>Plumber</td>\n",
              "      <td>Used Car Dealership</td>\n",
              "      <td>Clothing Store</td>\n",
              "      <td>Home Improvement Service</td>\n",
              "      <td>Bank</td>\n",
              "      <td>Automotive Repair Shop</td>\n",
              "      <td>Burger Joint</td>\n",
              "      <td>Fruit and Vegetable Store</td>\n",
              "      <td>Dance Studio</td>\n",
              "    </tr>\n",
              "    <tr>\n",
              "      <th>2</th>\n",
              "      <td>Allerton</td>\n",
              "      <td>General Contractor</td>\n",
              "      <td>Real Estate Agency</td>\n",
              "      <td>Pizzeria</td>\n",
              "      <td>Drugstore</td>\n",
              "      <td>Spa</td>\n",
              "      <td>Automotive Repair Shop</td>\n",
              "      <td>Grocery Store / Supermarket</td>\n",
              "      <td>Chinese Restaurant</td>\n",
              "      <td>American Restaurant</td>\n",
              "      <td>Health and Beauty Service</td>\n",
              "    </tr>\n",
              "    <tr>\n",
              "      <th>3</th>\n",
              "      <td>Annadale</td>\n",
              "      <td>Attorney / Law Office</td>\n",
              "      <td>Pizzeria</td>\n",
              "      <td>Hair Salon</td>\n",
              "      <td>Accounting and Bookkeeping Service</td>\n",
              "      <td>Audiovisual Service</td>\n",
              "      <td>Diner</td>\n",
              "      <td>Cocktail Bar</td>\n",
              "      <td>Bagel Shop</td>\n",
              "      <td>General Contractor</td>\n",
              "      <td>Deli</td>\n",
              "    </tr>\n",
              "    <tr>\n",
              "      <th>4</th>\n",
              "      <td>Arden Heights</td>\n",
              "      <td>General Contractor</td>\n",
              "      <td>Business and Professional Services</td>\n",
              "      <td>Mover</td>\n",
              "      <td>Heating, Ventilating and Air Conditioning Cont...</td>\n",
              "      <td>Audiovisual Service</td>\n",
              "      <td>Real Estate Agency</td>\n",
              "      <td>Real Estate Service</td>\n",
              "      <td>Playground</td>\n",
              "      <td>Carpet and Flooring Contractor</td>\n",
              "      <td>Nutritionist</td>\n",
              "    </tr>\n",
              "  </tbody>\n",
              "</table>\n",
              "</div>\n",
              "      <button class=\"colab-df-convert\" onclick=\"convertToInteractive('df-34edf60f-0ec7-4e71-af53-232056910f74')\"\n",
              "              title=\"Convert this dataframe to an interactive table.\"\n",
              "              style=\"display:none;\">\n",
              "        \n",
              "  <svg xmlns=\"http://www.w3.org/2000/svg\" height=\"24px\"viewBox=\"0 0 24 24\"\n",
              "       width=\"24px\">\n",
              "    <path d=\"M0 0h24v24H0V0z\" fill=\"none\"/>\n",
              "    <path d=\"M18.56 5.44l.94 2.06.94-2.06 2.06-.94-2.06-.94-.94-2.06-.94 2.06-2.06.94zm-11 1L8.5 8.5l.94-2.06 2.06-.94-2.06-.94L8.5 2.5l-.94 2.06-2.06.94zm10 10l.94 2.06.94-2.06 2.06-.94-2.06-.94-.94-2.06-.94 2.06-2.06.94z\"/><path d=\"M17.41 7.96l-1.37-1.37c-.4-.4-.92-.59-1.43-.59-.52 0-1.04.2-1.43.59L10.3 9.45l-7.72 7.72c-.78.78-.78 2.05 0 2.83L4 21.41c.39.39.9.59 1.41.59.51 0 1.02-.2 1.41-.59l7.78-7.78 2.81-2.81c.8-.78.8-2.07 0-2.86zM5.41 20L4 18.59l7.72-7.72 1.47 1.35L5.41 20z\"/>\n",
              "  </svg>\n",
              "      </button>\n",
              "      \n",
              "  <style>\n",
              "    .colab-df-container {\n",
              "      display:flex;\n",
              "      flex-wrap:wrap;\n",
              "      gap: 12px;\n",
              "    }\n",
              "\n",
              "    .colab-df-convert {\n",
              "      background-color: #E8F0FE;\n",
              "      border: none;\n",
              "      border-radius: 50%;\n",
              "      cursor: pointer;\n",
              "      display: none;\n",
              "      fill: #1967D2;\n",
              "      height: 32px;\n",
              "      padding: 0 0 0 0;\n",
              "      width: 32px;\n",
              "    }\n",
              "\n",
              "    .colab-df-convert:hover {\n",
              "      background-color: #E2EBFA;\n",
              "      box-shadow: 0px 1px 2px rgba(60, 64, 67, 0.3), 0px 1px 3px 1px rgba(60, 64, 67, 0.15);\n",
              "      fill: #174EA6;\n",
              "    }\n",
              "\n",
              "    [theme=dark] .colab-df-convert {\n",
              "      background-color: #3B4455;\n",
              "      fill: #D2E3FC;\n",
              "    }\n",
              "\n",
              "    [theme=dark] .colab-df-convert:hover {\n",
              "      background-color: #434B5C;\n",
              "      box-shadow: 0px 1px 3px 1px rgba(0, 0, 0, 0.15);\n",
              "      filter: drop-shadow(0px 1px 2px rgba(0, 0, 0, 0.3));\n",
              "      fill: #FFFFFF;\n",
              "    }\n",
              "  </style>\n",
              "\n",
              "      <script>\n",
              "        const buttonEl =\n",
              "          document.querySelector('#df-34edf60f-0ec7-4e71-af53-232056910f74 button.colab-df-convert');\n",
              "        buttonEl.style.display =\n",
              "          google.colab.kernel.accessAllowed ? 'block' : 'none';\n",
              "\n",
              "        async function convertToInteractive(key) {\n",
              "          const element = document.querySelector('#df-34edf60f-0ec7-4e71-af53-232056910f74');\n",
              "          const dataTable =\n",
              "            await google.colab.kernel.invokeFunction('convertToInteractive',\n",
              "                                                     [key], {});\n",
              "          if (!dataTable) return;\n",
              "\n",
              "          const docLinkHtml = 'Like what you see? Visit the ' +\n",
              "            '<a target=\"_blank\" href=https://colab.research.google.com/notebooks/data_table.ipynb>data table notebook</a>'\n",
              "            + ' to learn more about interactive tables.';\n",
              "          element.innerHTML = '';\n",
              "          dataTable['output_type'] = 'display_data';\n",
              "          await google.colab.output.renderOutput(dataTable, element);\n",
              "          const docLink = document.createElement('div');\n",
              "          docLink.innerHTML = docLinkHtml;\n",
              "          element.appendChild(docLink);\n",
              "        }\n",
              "      </script>\n",
              "    </div>\n",
              "  </div>\n",
              "  "
            ]
          },
          "metadata": {},
          "execution_count": 240
        }
      ]
    },
    {
      "cell_type": "markdown",
      "source": [
        "#####Primero empezamos por observar las 10 categorías de sitios que aparecen con más frecuencias para ambas ciudades."
      ],
      "metadata": {
        "id": "19FWOI41xzvx"
      }
    },
    {
      "cell_type": "code",
      "source": [
        "To_NY_venues_Category = To_NY_venues['Venue Category'].value_counts().rename_axis('Venue Category').reset_index(name='Venue Category counts')\n",
        "To_NY_venues_Category.head(10)\n"
      ],
      "metadata": {
        "colab": {
          "base_uri": "https://localhost:8080/",
          "height": 363
        },
        "id": "1KsoWeG8m7vu",
        "outputId": "33e5fa2e-9c19-49e7-fb4e-caa3eb219c79"
      },
      "execution_count": null,
      "outputs": [
        {
          "output_type": "execute_result",
          "data": {
            "text/plain": [
              "                       Venue Category  Venue Category counts\n",
              "0                          Hair Salon                    573\n",
              "1                            Pizzeria                    453\n",
              "2         Grocery Store / Supermarket                    420\n",
              "3                  General Contractor                    379\n",
              "4                          Restaurant                    374\n",
              "5                                Deli                    342\n",
              "6  Business and Professional Services                    325\n",
              "7                          Nail Salon                    324\n",
              "8                              Bakery                    321\n",
              "9              Automotive Repair Shop                    282"
            ],
            "text/html": [
              "\n",
              "  <div id=\"df-adc6e7fd-2b67-4d30-aee1-a89b1e8a4807\">\n",
              "    <div class=\"colab-df-container\">\n",
              "      <div>\n",
              "<style scoped>\n",
              "    .dataframe tbody tr th:only-of-type {\n",
              "        vertical-align: middle;\n",
              "    }\n",
              "\n",
              "    .dataframe tbody tr th {\n",
              "        vertical-align: top;\n",
              "    }\n",
              "\n",
              "    .dataframe thead th {\n",
              "        text-align: right;\n",
              "    }\n",
              "</style>\n",
              "<table border=\"1\" class=\"dataframe\">\n",
              "  <thead>\n",
              "    <tr style=\"text-align: right;\">\n",
              "      <th></th>\n",
              "      <th>Venue Category</th>\n",
              "      <th>Venue Category counts</th>\n",
              "    </tr>\n",
              "  </thead>\n",
              "  <tbody>\n",
              "    <tr>\n",
              "      <th>0</th>\n",
              "      <td>Hair Salon</td>\n",
              "      <td>573</td>\n",
              "    </tr>\n",
              "    <tr>\n",
              "      <th>1</th>\n",
              "      <td>Pizzeria</td>\n",
              "      <td>453</td>\n",
              "    </tr>\n",
              "    <tr>\n",
              "      <th>2</th>\n",
              "      <td>Grocery Store / Supermarket</td>\n",
              "      <td>420</td>\n",
              "    </tr>\n",
              "    <tr>\n",
              "      <th>3</th>\n",
              "      <td>General Contractor</td>\n",
              "      <td>379</td>\n",
              "    </tr>\n",
              "    <tr>\n",
              "      <th>4</th>\n",
              "      <td>Restaurant</td>\n",
              "      <td>374</td>\n",
              "    </tr>\n",
              "    <tr>\n",
              "      <th>5</th>\n",
              "      <td>Deli</td>\n",
              "      <td>342</td>\n",
              "    </tr>\n",
              "    <tr>\n",
              "      <th>6</th>\n",
              "      <td>Business and Professional Services</td>\n",
              "      <td>325</td>\n",
              "    </tr>\n",
              "    <tr>\n",
              "      <th>7</th>\n",
              "      <td>Nail Salon</td>\n",
              "      <td>324</td>\n",
              "    </tr>\n",
              "    <tr>\n",
              "      <th>8</th>\n",
              "      <td>Bakery</td>\n",
              "      <td>321</td>\n",
              "    </tr>\n",
              "    <tr>\n",
              "      <th>9</th>\n",
              "      <td>Automotive Repair Shop</td>\n",
              "      <td>282</td>\n",
              "    </tr>\n",
              "  </tbody>\n",
              "</table>\n",
              "</div>\n",
              "      <button class=\"colab-df-convert\" onclick=\"convertToInteractive('df-adc6e7fd-2b67-4d30-aee1-a89b1e8a4807')\"\n",
              "              title=\"Convert this dataframe to an interactive table.\"\n",
              "              style=\"display:none;\">\n",
              "        \n",
              "  <svg xmlns=\"http://www.w3.org/2000/svg\" height=\"24px\"viewBox=\"0 0 24 24\"\n",
              "       width=\"24px\">\n",
              "    <path d=\"M0 0h24v24H0V0z\" fill=\"none\"/>\n",
              "    <path d=\"M18.56 5.44l.94 2.06.94-2.06 2.06-.94-2.06-.94-.94-2.06-.94 2.06-2.06.94zm-11 1L8.5 8.5l.94-2.06 2.06-.94-2.06-.94L8.5 2.5l-.94 2.06-2.06.94zm10 10l.94 2.06.94-2.06 2.06-.94-2.06-.94-.94-2.06-.94 2.06-2.06.94z\"/><path d=\"M17.41 7.96l-1.37-1.37c-.4-.4-.92-.59-1.43-.59-.52 0-1.04.2-1.43.59L10.3 9.45l-7.72 7.72c-.78.78-.78 2.05 0 2.83L4 21.41c.39.39.9.59 1.41.59.51 0 1.02-.2 1.41-.59l7.78-7.78 2.81-2.81c.8-.78.8-2.07 0-2.86zM5.41 20L4 18.59l7.72-7.72 1.47 1.35L5.41 20z\"/>\n",
              "  </svg>\n",
              "      </button>\n",
              "      \n",
              "  <style>\n",
              "    .colab-df-container {\n",
              "      display:flex;\n",
              "      flex-wrap:wrap;\n",
              "      gap: 12px;\n",
              "    }\n",
              "\n",
              "    .colab-df-convert {\n",
              "      background-color: #E8F0FE;\n",
              "      border: none;\n",
              "      border-radius: 50%;\n",
              "      cursor: pointer;\n",
              "      display: none;\n",
              "      fill: #1967D2;\n",
              "      height: 32px;\n",
              "      padding: 0 0 0 0;\n",
              "      width: 32px;\n",
              "    }\n",
              "\n",
              "    .colab-df-convert:hover {\n",
              "      background-color: #E2EBFA;\n",
              "      box-shadow: 0px 1px 2px rgba(60, 64, 67, 0.3), 0px 1px 3px 1px rgba(60, 64, 67, 0.15);\n",
              "      fill: #174EA6;\n",
              "    }\n",
              "\n",
              "    [theme=dark] .colab-df-convert {\n",
              "      background-color: #3B4455;\n",
              "      fill: #D2E3FC;\n",
              "    }\n",
              "\n",
              "    [theme=dark] .colab-df-convert:hover {\n",
              "      background-color: #434B5C;\n",
              "      box-shadow: 0px 1px 3px 1px rgba(0, 0, 0, 0.15);\n",
              "      filter: drop-shadow(0px 1px 2px rgba(0, 0, 0, 0.3));\n",
              "      fill: #FFFFFF;\n",
              "    }\n",
              "  </style>\n",
              "\n",
              "      <script>\n",
              "        const buttonEl =\n",
              "          document.querySelector('#df-adc6e7fd-2b67-4d30-aee1-a89b1e8a4807 button.colab-df-convert');\n",
              "        buttonEl.style.display =\n",
              "          google.colab.kernel.accessAllowed ? 'block' : 'none';\n",
              "\n",
              "        async function convertToInteractive(key) {\n",
              "          const element = document.querySelector('#df-adc6e7fd-2b67-4d30-aee1-a89b1e8a4807');\n",
              "          const dataTable =\n",
              "            await google.colab.kernel.invokeFunction('convertToInteractive',\n",
              "                                                     [key], {});\n",
              "          if (!dataTable) return;\n",
              "\n",
              "          const docLinkHtml = 'Like what you see? Visit the ' +\n",
              "            '<a target=\"_blank\" href=https://colab.research.google.com/notebooks/data_table.ipynb>data table notebook</a>'\n",
              "            + ' to learn more about interactive tables.';\n",
              "          element.innerHTML = '';\n",
              "          dataTable['output_type'] = 'display_data';\n",
              "          await google.colab.output.renderOutput(dataTable, element);\n",
              "          const docLink = document.createElement('div');\n",
              "          docLink.innerHTML = docLinkHtml;\n",
              "          element.appendChild(docLink);\n",
              "        }\n",
              "      </script>\n",
              "    </div>\n",
              "  </div>\n",
              "  "
            ]
          },
          "metadata": {},
          "execution_count": 45
        }
      ]
    },
    {
      "cell_type": "code",
      "source": [
        "To_NY_venues_Category.head(10).plot.barh(x='Venue Category', y='Venue Category counts', \n",
        "             title='Las 10 categorías de sitios más frecuentes en Toronto y Nueva York', color='blue')"
      ],
      "metadata": {
        "colab": {
          "base_uri": "https://localhost:8080/",
          "height": 298
        },
        "id": "kgIzdhC1w-Xe",
        "outputId": "090b3d3b-3b83-4516-b4b1-89bdd1fdefd7"
      },
      "execution_count": null,
      "outputs": [
        {
          "output_type": "execute_result",
          "data": {
            "text/plain": [
              "<matplotlib.axes._subplots.AxesSubplot at 0x7f8b48857bd0>"
            ]
          },
          "metadata": {},
          "execution_count": 46
        },
        {
          "output_type": "display_data",
          "data": {
            "text/plain": [
              "<Figure size 432x288 with 1 Axes>"
            ],
            "image/png": "[encoded data removed]"
          },
          "metadata": {
            "needs_background": "light"
          }
        }
      ]
    },
    {
      "cell_type": "markdown",
      "source": [
        "#####Ahora observamos cuales fueron las 10 categorías catalogadas como \"Primer lugar más común\" que aparecen con más frecuencia"
      ],
      "metadata": {
        "id": "BZkMEqDp7sLG"
      }
    },
    {
      "cell_type": "code",
      "source": [
        "neighborhoods_venues_sorted_counts = neighborhoods_venues_sorted['1st Most Common Venue'].value_counts().rename_axis('1st Most Common Venues').reset_index(name='1st Most Common Venues counts')\n",
        "neighborhoods_venues_sorted_counts.head(10)"
      ],
      "metadata": {
        "colab": {
          "base_uri": "https://localhost:8080/",
          "height": 363
        },
        "id": "LPduCIS25X2T",
        "outputId": "69dc5309-3bef-472f-b814-ccd778231b74"
      },
      "execution_count": null,
      "outputs": [
        {
          "output_type": "execute_result",
          "data": {
            "text/plain": [
              "               1st Most Common Venues  1st Most Common Venues counts\n",
              "0                  General Contractor                             38\n",
              "1                          Hair Salon                             34\n",
              "2                          Restaurant                             23\n",
              "3         Grocery Store / Supermarket                             22\n",
              "4                            Pizzeria                             21\n",
              "5  Business and Professional Services                             20\n",
              "6              Automotive Repair Shop                             16\n",
              "7                          Nail Salon                             15\n",
              "8                      Clothing Store                             14\n",
              "9               Attorney / Law Office                             10"
            ],
            "text/html": [
              "\n",
              "  <div id=\"df-764b59b2-ebf0-488c-a214-3e781ae81419\">\n",
              "    <div class=\"colab-df-container\">\n",
              "      <div>\n",
              "<style scoped>\n",
              "    .dataframe tbody tr th:only-of-type {\n",
              "        vertical-align: middle;\n",
              "    }\n",
              "\n",
              "    .dataframe tbody tr th {\n",
              "        vertical-align: top;\n",
              "    }\n",
              "\n",
              "    .dataframe thead th {\n",
              "        text-align: right;\n",
              "    }\n",
              "</style>\n",
              "<table border=\"1\" class=\"dataframe\">\n",
              "  <thead>\n",
              "    <tr style=\"text-align: right;\">\n",
              "      <th></th>\n",
              "      <th>1st Most Common Venues</th>\n",
              "      <th>1st Most Common Venues counts</th>\n",
              "    </tr>\n",
              "  </thead>\n",
              "  <tbody>\n",
              "    <tr>\n",
              "      <th>0</th>\n",
              "      <td>General Contractor</td>\n",
              "      <td>38</td>\n",
              "    </tr>\n",
              "    <tr>\n",
              "      <th>1</th>\n",
              "      <td>Hair Salon</td>\n",
              "      <td>34</td>\n",
              "    </tr>\n",
              "    <tr>\n",
              "      <th>2</th>\n",
              "      <td>Restaurant</td>\n",
              "      <td>23</td>\n",
              "    </tr>\n",
              "    <tr>\n",
              "      <th>3</th>\n",
              "      <td>Grocery Store / Supermarket</td>\n",
              "      <td>22</td>\n",
              "    </tr>\n",
              "    <tr>\n",
              "      <th>4</th>\n",
              "      <td>Pizzeria</td>\n",
              "      <td>21</td>\n",
              "    </tr>\n",
              "    <tr>\n",
              "      <th>5</th>\n",
              "      <td>Business and Professional Services</td>\n",
              "      <td>20</td>\n",
              "    </tr>\n",
              "    <tr>\n",
              "      <th>6</th>\n",
              "      <td>Automotive Repair Shop</td>\n",
              "      <td>16</td>\n",
              "    </tr>\n",
              "    <tr>\n",
              "      <th>7</th>\n",
              "      <td>Nail Salon</td>\n",
              "      <td>15</td>\n",
              "    </tr>\n",
              "    <tr>\n",
              "      <th>8</th>\n",
              "      <td>Clothing Store</td>\n",
              "      <td>14</td>\n",
              "    </tr>\n",
              "    <tr>\n",
              "      <th>9</th>\n",
              "      <td>Attorney / Law Office</td>\n",
              "      <td>10</td>\n",
              "    </tr>\n",
              "  </tbody>\n",
              "</table>\n",
              "</div>\n",
              "      <button class=\"colab-df-convert\" onclick=\"convertToInteractive('df-764b59b2-ebf0-488c-a214-3e781ae81419')\"\n",
              "              title=\"Convert this dataframe to an interactive table.\"\n",
              "              style=\"display:none;\">\n",
              "        \n",
              "  <svg xmlns=\"http://www.w3.org/2000/svg\" height=\"24px\"viewBox=\"0 0 24 24\"\n",
              "       width=\"24px\">\n",
              "    <path d=\"M0 0h24v24H0V0z\" fill=\"none\"/>\n",
              "    <path d=\"M18.56 5.44l.94 2.06.94-2.06 2.06-.94-2.06-.94-.94-2.06-.94 2.06-2.06.94zm-11 1L8.5 8.5l.94-2.06 2.06-.94-2.06-.94L8.5 2.5l-.94 2.06-2.06.94zm10 10l.94 2.06.94-2.06 2.06-.94-2.06-.94-.94-2.06-.94 2.06-2.06.94z\"/><path d=\"M17.41 7.96l-1.37-1.37c-.4-.4-.92-.59-1.43-.59-.52 0-1.04.2-1.43.59L10.3 9.45l-7.72 7.72c-.78.78-.78 2.05 0 2.83L4 21.41c.39.39.9.59 1.41.59.51 0 1.02-.2 1.41-.59l7.78-7.78 2.81-2.81c.8-.78.8-2.07 0-2.86zM5.41 20L4 18.59l7.72-7.72 1.47 1.35L5.41 20z\"/>\n",
              "  </svg>\n",
              "      </button>\n",
              "      \n",
              "  <style>\n",
              "    .colab-df-container {\n",
              "      display:flex;\n",
              "      flex-wrap:wrap;\n",
              "      gap: 12px;\n",
              "    }\n",
              "\n",
              "    .colab-df-convert {\n",
              "      background-color: #E8F0FE;\n",
              "      border: none;\n",
              "      border-radius: 50%;\n",
              "      cursor: pointer;\n",
              "      display: none;\n",
              "      fill: #1967D2;\n",
              "      height: 32px;\n",
              "      padding: 0 0 0 0;\n",
              "      width: 32px;\n",
              "    }\n",
              "\n",
              "    .colab-df-convert:hover {\n",
              "      background-color: #E2EBFA;\n",
              "      box-shadow: 0px 1px 2px rgba(60, 64, 67, 0.3), 0px 1px 3px 1px rgba(60, 64, 67, 0.15);\n",
              "      fill: #174EA6;\n",
              "    }\n",
              "\n",
              "    [theme=dark] .colab-df-convert {\n",
              "      background-color: #3B4455;\n",
              "      fill: #D2E3FC;\n",
              "    }\n",
              "\n",
              "    [theme=dark] .colab-df-convert:hover {\n",
              "      background-color: #434B5C;\n",
              "      box-shadow: 0px 1px 3px 1px rgba(0, 0, 0, 0.15);\n",
              "      filter: drop-shadow(0px 1px 2px rgba(0, 0, 0, 0.3));\n",
              "      fill: #FFFFFF;\n",
              "    }\n",
              "  </style>\n",
              "\n",
              "      <script>\n",
              "        const buttonEl =\n",
              "          document.querySelector('#df-764b59b2-ebf0-488c-a214-3e781ae81419 button.colab-df-convert');\n",
              "        buttonEl.style.display =\n",
              "          google.colab.kernel.accessAllowed ? 'block' : 'none';\n",
              "\n",
              "        async function convertToInteractive(key) {\n",
              "          const element = document.querySelector('#df-764b59b2-ebf0-488c-a214-3e781ae81419');\n",
              "          const dataTable =\n",
              "            await google.colab.kernel.invokeFunction('convertToInteractive',\n",
              "                                                     [key], {});\n",
              "          if (!dataTable) return;\n",
              "\n",
              "          const docLinkHtml = 'Like what you see? Visit the ' +\n",
              "            '<a target=\"_blank\" href=https://colab.research.google.com/notebooks/data_table.ipynb>data table notebook</a>'\n",
              "            + ' to learn more about interactive tables.';\n",
              "          element.innerHTML = '';\n",
              "          dataTable['output_type'] = 'display_data';\n",
              "          await google.colab.output.renderOutput(dataTable, element);\n",
              "          const docLink = document.createElement('div');\n",
              "          docLink.innerHTML = docLinkHtml;\n",
              "          element.appendChild(docLink);\n",
              "        }\n",
              "      </script>\n",
              "    </div>\n",
              "  </div>\n",
              "  "
            ]
          },
          "metadata": {},
          "execution_count": 47
        }
      ]
    },
    {
      "cell_type": "code",
      "source": [
        "neighborhoods_venues_sorted_counts.head(10).plot.barh(x='1st Most Common Venues', y='1st Most Common Venues counts', \n",
        "             title='Las 10 categorías de sitios más frecuentes catalogadas como Primer lugar más común', color='blue')"
      ],
      "metadata": {
        "colab": {
          "base_uri": "https://localhost:8080/",
          "height": 298
        },
        "id": "hL8p8QJ88PfM",
        "outputId": "2321a78e-b9de-4f12-e857-03fb50aa1e32"
      },
      "execution_count": null,
      "outputs": [
        {
          "output_type": "execute_result",
          "data": {
            "text/plain": [
              "<matplotlib.axes._subplots.AxesSubplot at 0x7f8b482a5410>"
            ]
          },
          "metadata": {},
          "execution_count": 48
        },
        {
          "output_type": "display_data",
          "data": {
            "text/plain": [
              "<Figure size 432x288 with 1 Axes>"
            ],
            "image/png": "[encoded data removed]"
          },
          "metadata": {
            "needs_background": "light"
          }
        }
      ]
    }
  ]
}